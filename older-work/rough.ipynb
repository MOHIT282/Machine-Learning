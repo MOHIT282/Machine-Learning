{
 "cells": [
  {
   "cell_type": "markdown",
   "id": "45f05653",
   "metadata": {},
   "source": [
    "If you wan to use if in list comprehension, use it in last"
   ]
  },
  {
   "cell_type": "code",
   "execution_count": 19,
   "id": "e4aa167a",
   "metadata": {},
   "outputs": [
    {
     "data": {
      "text/plain": [
       "[4, 16]"
      ]
     },
     "execution_count": 19,
     "metadata": {},
     "output_type": "execute_result"
    }
   ],
   "source": [
    "a = [1,2,3,4]\n",
    "\n",
    "b = [x**2 for x in a if x%2 == 0]\n",
    "b"
   ]
  },
  {
   "cell_type": "markdown",
   "id": "04298f1c",
   "metadata": {},
   "source": [
    "- if you want to use if else use before the loop"
   ]
  },
  {
   "cell_type": "code",
   "execution_count": 20,
   "id": "7cddb565",
   "metadata": {},
   "outputs": [
    {
     "data": {
      "text/plain": [
       "[(1, 1),\n",
       " (2, 4),\n",
       " (3, 27),\n",
       " (4, 16),\n",
       " (5, 125),\n",
       " (6, 36),\n",
       " (7, 343),\n",
       " (8, 64),\n",
       " (9, 729),\n",
       " (10, 100)]"
      ]
     },
     "execution_count": 20,
     "metadata": {},
     "output_type": "execute_result"
    }
   ],
   "source": [
    "[(x,x**2) if x%2 == 0 else (x,x**3) for x in range(1,11)]"
   ]
  },
  {
   "cell_type": "markdown",
   "id": "b18a4f89",
   "metadata": {},
   "source": [
    "### creating a anonymous function"
   ]
  },
  {
   "cell_type": "code",
   "execution_count": 6,
   "id": "e6759be0",
   "metadata": {},
   "outputs": [
    {
     "name": "stdout",
     "output_type": "stream",
     "text": [
      "Enter a number : 24\n",
      "Enter a number : 46\n"
     ]
    },
    {
     "data": {
      "text/plain": [
       "70"
      ]
     },
     "execution_count": 6,
     "metadata": {},
     "output_type": "execute_result"
    }
   ],
   "source": [
    "sumNum = lambda x,y : x + y\n",
    "\n",
    "sumNum(int(input(\"Enter a number : \")),int(input(\"Enter a number : \")))"
   ]
  },
  {
   "cell_type": "code",
   "execution_count": 8,
   "id": "8d76aee5",
   "metadata": {},
   "outputs": [
    {
     "data": {
      "text/plain": [
       "False"
      ]
     },
     "execution_count": 8,
     "metadata": {},
     "output_type": "execute_result"
    }
   ],
   "source": [
    "evenOdd = lambda x : x%2== 0\n",
    "\n",
    "evenOdd(3)"
   ]
  },
  {
   "cell_type": "markdown",
   "id": "f7931a99",
   "metadata": {},
   "source": [
    "### practice questions \n",
    "\n",
    "- given a python string return a list of all vowels"
   ]
  },
  {
   "cell_type": "code",
   "execution_count": 18,
   "id": "43fa06da",
   "metadata": {},
   "outputs": [
    {
     "name": "stdout",
     "output_type": "stream",
     "text": [
      "Enter the stringhello world\n"
     ]
    },
    {
     "data": {
      "text/plain": [
       "{'e', 'o'}"
      ]
     },
     "execution_count": 18,
     "metadata": {},
     "output_type": "execute_result"
    }
   ],
   "source": [
    "str = input('Enter the string').lower()\n",
    "vowels = ['a','e','i','o','u']\n",
    "ans = {x for x in str if x in vowels}\n",
    "ans"
   ]
  },
  {
   "cell_type": "markdown",
   "id": "056368c1",
   "metadata": {},
   "source": []
  },
  {
   "cell_type": "code",
   "execution_count": null,
   "id": "8af97ba0",
   "metadata": {},
   "outputs": [],
   "source": [
    "ser = pd.Series"
   ]
  }
 ],
 "metadata": {
  "kernelspec": {
   "display_name": "Python 3 (ipykernel)",
   "language": "python",
   "name": "python3"
  },
  "language_info": {
   "codemirror_mode": {
    "name": "ipython",
    "version": 3
   },
   "file_extension": ".py",
   "mimetype": "text/x-python",
   "name": "python",
   "nbconvert_exporter": "python",
   "pygments_lexer": "ipython3",
   "version": "3.10.5"
  }
 },
 "nbformat": 4,
 "nbformat_minor": 5
}
