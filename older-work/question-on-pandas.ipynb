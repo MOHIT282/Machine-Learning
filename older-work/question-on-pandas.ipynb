{
 "cells": [
  {
   "cell_type": "code",
   "execution_count": 1,
   "metadata": {},
   "outputs": [],
   "source": [
    "import pandas as pd\n",
    "import numpy as np"
   ]
  },
  {
   "attachments": {},
   "cell_type": "markdown",
   "metadata": {},
   "source": [
    "Given the following Series1\n",
    "\n",
    "A 100\n",
    "\n",
    "B 200\n",
    "\n",
    "C 300\n",
    "\n",
    "D 400\n",
    "\n",
    "E 500\n",
    "\n",
    "Write the command to create above Series and\n",
    "then double the value in series and store in\n",
    "another series named Series2"
   ]
  },
  {
   "cell_type": "code",
   "execution_count": 6,
   "metadata": {},
   "outputs": [
    {
     "data": {
      "text/plain": [
       "A     200\n",
       "B     400\n",
       "C     600\n",
       "D     800\n",
       "E    1000\n",
       "dtype: int64"
      ]
     },
     "execution_count": 6,
     "metadata": {},
     "output_type": "execute_result"
    }
   ],
   "source": [
    "series1 = pd.Series((range(100,501,100)), index=['A','B','C','D','E'])\n",
    "Series2 = series1*2\n",
    "Series2"
   ]
  },
  {
   "attachments": {},
   "cell_type": "markdown",
   "metadata": {},
   "source": [
    "Consider the following Series object, s\n",
    "\n",
    " IP 95\n",
    "\n",
    " Physics 89\n",
    "\n",
    " Chemistry 92\n",
    "\n",
    " Math 95\n",
    " \n",
    "i. Write the Python syntax which will display\n",
    "only IP.\n",
    "\n",
    "ii. Write the Python syntax to increase marks\n",
    "of all subjects by 10."
   ]
  },
  {
   "cell_type": "code",
   "execution_count": 15,
   "metadata": {},
   "outputs": [
    {
     "name": "stdout",
     "output_type": "stream",
     "text": [
      "95\n"
     ]
    },
    {
     "data": {
      "text/plain": [
       "ip           105\n",
       "Physics       99\n",
       "Chemistry    102\n",
       "Math         105\n",
       "dtype: int64"
      ]
     },
     "execution_count": 15,
     "metadata": {},
     "output_type": "execute_result"
    }
   ],
   "source": [
    "marks = pd.Series({'ip':95,'Physics':89,'Chemistry':92,'Math':95})\n",
    "print(marks['ip'])\n",
    "marks += 10\n",
    "marks"
   ]
  },
  {
   "attachments": {},
   "cell_type": "markdown",
   "metadata": {},
   "source": [
    "What will be the output produced by the\n",
    "following programming statements 1 & 2?\n",
    "\n",
    "import pandas as pd\n",
    "\n",
    "S1=pd.Series(data=[31,41,51])\n",
    "\n",
    "print(S1>40) -->Statement1\n",
    "\n",
    "print(S1[S1>40]) -->Statement2 "
   ]
  },
  {
   "cell_type": "code",
   "execution_count": 16,
   "metadata": {},
   "outputs": [
    {
     "name": "stdout",
     "output_type": "stream",
     "text": [
      "0    False\n",
      "1     True\n",
      "2     True\n",
      "dtype: bool\n",
      "1    41\n",
      "2    51\n",
      "dtype: int64\n"
     ]
    }
   ],
   "source": [
    "S1=pd.Series(data=[31,41,51])\n",
    "print(S1>40) \n",
    "print(S1[S1>40]) "
   ]
  },
  {
   "attachments": {},
   "cell_type": "markdown",
   "metadata": {},
   "source": [
    "7- Given two series S1 and S2\n",
    "\n",
    "S1                   S2\n",
    "\n",
    "A 39                 A 10\n",
    "\n",
    "B 41                 B 10\n",
    "\n",
    "C 42                 D 10\n",
    "\n",
    "D 44                 F 10\n",
    "\n",
    "Find the output for following python pandas\n",
    "statements?\n",
    "\n",
    "a. S1[ : 2]*100\n",
    "\n",
    "b. S1 * S2\n",
    "\n",
    "c. S2[ : : -1]*10 "
   ]
  },
  {
   "cell_type": "code",
   "execution_count": 23,
   "metadata": {},
   "outputs": [
    {
     "data": {
      "text/plain": [
       "A    390.0\n",
       "B    410.0\n",
       "C      NaN\n",
       "D    440.0\n",
       "F      NaN\n",
       "dtype: float64"
      ]
     },
     "execution_count": 23,
     "metadata": {},
     "output_type": "execute_result"
    }
   ],
   "source": [
    "S1 = pd.Series(data=[39,41,42,44],index=['A','B','C','D'])\n",
    "S2 = pd.Series(data=10,index=['A','B','D','F'])\n",
    "S1[:2]*100\n",
    "S1*S2"
   ]
  },
  {
   "cell_type": "code",
   "execution_count": null,
   "metadata": {},
   "outputs": [],
   "source": []
  }
 ],
 "metadata": {
  "kernelspec": {
   "display_name": "Python 3",
   "language": "python",
   "name": "python3"
  },
  "language_info": {
   "codemirror_mode": {
    "name": "ipython",
    "version": 3
   },
   "file_extension": ".py",
   "mimetype": "text/x-python",
   "name": "python",
   "nbconvert_exporter": "python",
   "pygments_lexer": "ipython3",
   "version": "3.10.5"
  },
  "orig_nbformat": 4
 },
 "nbformat": 4,
 "nbformat_minor": 2
}
