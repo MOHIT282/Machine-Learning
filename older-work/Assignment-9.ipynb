{
 "cells": [
  {
   "cell_type": "code",
   "execution_count": 2,
   "id": "3baccaf6",
   "metadata": {},
   "outputs": [],
   "source": [
    "import pandas as pd\n",
    "import numpy as np"
   ]
  },
  {
   "cell_type": "code",
   "execution_count": 5,
   "id": "c9c3a30b",
   "metadata": {},
   "outputs": [
    {
     "data": {
      "text/html": [
       "<div>\n",
       "<style scoped>\n",
       "    .dataframe tbody tr th:only-of-type {\n",
       "        vertical-align: middle;\n",
       "    }\n",
       "\n",
       "    .dataframe tbody tr th {\n",
       "        vertical-align: top;\n",
       "    }\n",
       "\n",
       "    .dataframe thead th {\n",
       "        text-align: right;\n",
       "    }\n",
       "</style>\n",
       "<table border=\"1\" class=\"dataframe\">\n",
       "  <thead>\n",
       "    <tr style=\"text-align: right;\">\n",
       "      <th></th>\n",
       "      <th>Exam</th>\n",
       "      <th>Grade</th>\n",
       "      <th>Name</th>\n",
       "    </tr>\n",
       "  </thead>\n",
       "  <tbody>\n",
       "    <tr>\n",
       "      <th>0</th>\n",
       "      <td>90</td>\n",
       "      <td>a</td>\n",
       "      <td>Paras Jain</td>\n",
       "    </tr>\n",
       "    <tr>\n",
       "      <th>1</th>\n",
       "      <td>99</td>\n",
       "      <td>b</td>\n",
       "      <td>Paras Jain</td>\n",
       "    </tr>\n",
       "    <tr>\n",
       "      <th>2</th>\n",
       "      <td>97</td>\n",
       "      <td>c</td>\n",
       "      <td>Paras Jain</td>\n",
       "    </tr>\n",
       "    <tr>\n",
       "      <th>3</th>\n",
       "      <td>89</td>\n",
       "      <td>a</td>\n",
       "      <td>Chunky Pandey</td>\n",
       "    </tr>\n",
       "    <tr>\n",
       "      <th>4</th>\n",
       "      <td>80</td>\n",
       "      <td>b</td>\n",
       "      <td>Chunky Pandey</td>\n",
       "    </tr>\n",
       "  </tbody>\n",
       "</table>\n",
       "</div>"
      ],
      "text/plain": [
       "   Exam Grade           Name\n",
       "0    90     a     Paras Jain\n",
       "1    99     b     Paras Jain\n",
       "2    97     c     Paras Jain\n",
       "3    89     a  Chunky Pandey\n",
       "4    80     b  Chunky Pandey"
      ]
     },
     "execution_count": 5,
     "metadata": {},
     "output_type": "execute_result"
    }
   ],
   "source": [
    "data = [{\n",
    "        \"Student\": [{\"Exam\": 90, \"Grade\": \"a\"},\n",
    "                    {\"Exam\": 99, \"Grade\": \"b\"},\n",
    "                    {\"Exam\": 97, \"Grade\": \"c\"},\n",
    "                   ],\n",
    "        \"Name\": \"Paras Jain\"\n",
    "        },\n",
    "        {\n",
    "        \"Student\": [{\"Exam\": 89, \"Grade\": \"a\"},\n",
    "                    {\"Exam\": 80, \"Grade\": \"b\"}\n",
    "                  ],\n",
    "        \"Name\": \"Chunky Pandey\"\n",
    "        }\n",
    "       ]\n",
    "\n",
    "# df = pd.DataFrame(data)\n",
    "df = pd.json_normalize(data, \"Student\", [\"Name\"])\n",
    "# exams = data[0]['Student'] + data[1]['Student']\n",
    "# names = data[0]['Name'] + data[1]['Name']\n",
    "# df = pd.DataFrame(exams)\n",
    "df"
   ]
  },
  {
   "cell_type": "code",
   "execution_count": 6,
   "id": "c20e4d38",
   "metadata": {},
   "outputs": [],
   "source": [
    "data1 =  \"\"\"Date;Event;Cost\n",
    "    10/2/2011;Music;10000\n",
    "    11/2/2011;Poetry;12000\n",
    "    12/2/2011;Theatre;5000\n",
    "    13/2/2011;Comedy;8000\n",
    "    \"\"\""
   ]
  },
  {
   "cell_type": "code",
   "execution_count": 13,
   "id": "bb3c81c4",
   "metadata": {},
   "outputs": [
    {
     "name": "stdout",
     "output_type": "stream",
     "text": [
      "            Date    Event   Cost\n",
      "0      10/2/2011    Music  10000\n",
      "1      11/2/2011   Poetry  12000\n",
      "2      12/2/2011  Theatre   5000\n",
      "3      13/2/2011   Comedy   8000\n"
     ]
    }
   ],
   "source": [
    "from io import StringIO\n",
    "data_io = StringIO(data1)\n",
    "\n",
    "# Read the CSV data into a DataFrame\n",
    "df = pd.read_csv(data_io, delimiter=';')\n",
    "\n",
    "# Remove leading/trailing whitespaces from column names\n",
    "# df.columns = df.columns.str.strip()\n",
    "\n",
    "# Print the DataFrame\n",
    "print(df)"
   ]
  },
  {
   "cell_type": "code",
   "execution_count": 15,
   "id": "814615c4",
   "metadata": {},
   "outputs": [
    {
     "data": {
      "text/plain": [
       "['Date',\n",
       " 'Event',\n",
       " 'Cost\\n    10/2/2011',\n",
       " 'Music',\n",
       " '10000\\n    11/2/2011',\n",
       " 'Poetry',\n",
       " '12000\\n    12/2/2011',\n",
       " 'Theatre',\n",
       " '5000\\n    13/2/2011',\n",
       " 'Comedy',\n",
       " '8000\\n    ']"
      ]
     },
     "execution_count": 15,
     "metadata": {},
     "output_type": "execute_result"
    }
   ],
   "source": [
    "d = data1.split(';')\n",
    "d"
   ]
  },
  {
   "cell_type": "code",
   "execution_count": 32,
   "id": "32ae64cf",
   "metadata": {},
   "outputs": [
    {
     "name": "stdout",
     "output_type": "stream",
     "text": [
      "['Date', 'Event', 'Cost\\n    10/2/2011', 'Music', '10000\\n    11/2/2011', 'Poetry', '12000\\n    12/2/2011', 'Theatre', '5000\\n    13/2/2011', 'Comedy', '8000']\n"
     ]
    }
   ],
   "source": [
    "d1 = [ i.strip() for i in d]\n",
    "# d1 = [ i.split('\\\\n') for i in d]\n",
    "print(d1)"
   ]
  },
  {
   "cell_type": "code",
   "execution_count": 40,
   "id": "31e10a76",
   "metadata": {},
   "outputs": [
    {
     "name": "stdout",
     "output_type": "stream",
     "text": [
      "[['Date'], ['Event'], ['Cost', '10/2/2011'], ['Music'], ['10000', '11/2/2011'], ['Poetry'], ['12000', '12/2/2011'], ['Theatre'], ['5000', '13/2/2011'], ['Comedy'], ['8000']]\n"
     ]
    }
   ],
   "source": [
    "d1 = [ i.split() for i in d]\n",
    "d2 = [ i.split() for i in d]\n",
    "print(d2)"
   ]
  },
  {
   "cell_type": "code",
   "execution_count": 20,
   "id": "f7f9696c",
   "metadata": {},
   "outputs": [
    {
     "data": {
      "text/plain": [
       "['Music', '12000\\n    12/2/2011']"
      ]
     },
     "execution_count": 20,
     "metadata": {},
     "output_type": "execute_result"
    }
   ],
   "source": [
    "date = [d1[i*3] for i in range(1,  int(len(d1)/3) ) ] \n",
    "event = [d1[i*3 + 1] for i in range(1, int(len(d1)/3) ) ] \n",
    "cost = [d1[i*3 + 2] for i in range(1, int(len(d1)/3) ) ] \n",
    "date"
   ]
  },
  {
   "cell_type": "code",
   "execution_count": 19,
   "id": "0645962f",
   "metadata": {},
   "outputs": [
    {
     "data": {
      "text/html": [
       "<div>\n",
       "<style scoped>\n",
       "    .dataframe tbody tr th:only-of-type {\n",
       "        vertical-align: middle;\n",
       "    }\n",
       "\n",
       "    .dataframe tbody tr th {\n",
       "        vertical-align: top;\n",
       "    }\n",
       "\n",
       "    .dataframe thead th {\n",
       "        text-align: right;\n",
       "    }\n",
       "</style>\n",
       "<table border=\"1\" class=\"dataframe\">\n",
       "  <thead>\n",
       "    <tr style=\"text-align: right;\">\n",
       "      <th></th>\n",
       "      <th>Date</th>\n",
       "      <th>Event</th>\n",
       "      <th>Cost</th>\n",
       "    </tr>\n",
       "  </thead>\n",
       "  <tbody>\n",
       "    <tr>\n",
       "      <th>0</th>\n",
       "      <td>Music</td>\n",
       "      <td>10000\\n    11/2/2011</td>\n",
       "      <td>Poetry</td>\n",
       "    </tr>\n",
       "    <tr>\n",
       "      <th>1</th>\n",
       "      <td>12000\\n    12/2/2011</td>\n",
       "      <td>Theatre</td>\n",
       "      <td>5000\\n    13/2/2011</td>\n",
       "    </tr>\n",
       "  </tbody>\n",
       "</table>\n",
       "</div>"
      ],
      "text/plain": [
       "                   Date                 Event                 Cost\n",
       "0                 Music  10000\\n    11/2/2011               Poetry\n",
       "1  12000\\n    12/2/2011               Theatre  5000\\n    13/2/2011"
      ]
     },
     "execution_count": 19,
     "metadata": {},
     "output_type": "execute_result"
    }
   ],
   "source": [
    "df = pd.DataFrame()\n",
    "df['Date'] = date\n",
    "df['Event'] = event\n",
    "df['Cost'] = cost\n",
    "df"
   ]
  },
  {
   "cell_type": "code",
   "execution_count": null,
   "id": "917364cc",
   "metadata": {},
   "outputs": [],
   "source": []
  }
 ],
 "metadata": {
  "kernelspec": {
   "display_name": "Python 3 (ipykernel)",
   "language": "python",
   "name": "python3"
  },
  "language_info": {
   "codemirror_mode": {
    "name": "ipython",
    "version": 3
   },
   "file_extension": ".py",
   "mimetype": "text/x-python",
   "name": "python",
   "nbconvert_exporter": "python",
   "pygments_lexer": "ipython3",
   "version": "3.10.5"
  }
 },
 "nbformat": 4,
 "nbformat_minor": 5
}
