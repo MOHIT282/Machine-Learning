{
 "cells": [
  {
   "cell_type": "code",
   "execution_count": 1,
   "id": "bef26051",
   "metadata": {},
   "outputs": [],
   "source": [
    "import pandas as pd\n",
    "import numpy as np\n"
   ]
  },
  {
   "cell_type": "markdown",
   "id": "0c5c2111",
   "metadata": {},
   "source": [
    "### Question 1 \n",
    "Create a series consisting of numbers and update its value by string of square of number + square of number and ensure that data type for the series should be integer.\n",
    "\n",
    "output -\n",
    "\n",
    "0  11\n",
    "\n",
    "1   44\n",
    "\n",
    "2   99"
   ]
  },
  {
   "cell_type": "code",
   "execution_count": 2,
   "id": "336a5aa9",
   "metadata": {},
   "outputs": [
    {
     "data": {
      "text/plain": [
       "0      11\n",
       "1      44\n",
       "2      99\n",
       "3    1616\n",
       "4    2525\n",
       "dtype: int32"
      ]
     },
     "execution_count": 2,
     "metadata": {},
     "output_type": "execute_result"
    }
   ],
   "source": [
    "new_series = pd.Series([1,2,3,4,5]) \n",
    "\n",
    "new_series=new_series.apply(lambda x : str(x**2) + str(x**2))\n",
    "\n",
    "new_series.astype(int)"
   ]
  },
  {
   "cell_type": "markdown",
   "id": "8853285d",
   "metadata": {},
   "source": [
    "### Question 2 \n",
    "WAP that tells the  number of not null values in series, duplicate values in series (if any)"
   ]
  },
  {
   "cell_type": "code",
   "execution_count": 14,
   "id": "460e3816",
   "metadata": {},
   "outputs": [
    {
     "data": {
      "text/plain": [
       "a    1.0\n",
       "b    2.0\n",
       "c    4.0\n",
       "d    NaN\n",
       "e    4.0\n",
       "f    NaN\n",
       "g    7.0\n",
       "dtype: float64"
      ]
     },
     "execution_count": 14,
     "metadata": {},
     "output_type": "execute_result"
    }
   ],
   "source": [
    "ser = pd.Series({'a':1,'b':2,'c':4,'d':np.nan,'e':4,'f':None,'g':7})\n",
    "ser"
   ]
  },
  {
   "cell_type": "code",
   "execution_count": 4,
   "id": "c75f29bc",
   "metadata": {},
   "outputs": [
    {
     "name": "stdout",
     "output_type": "stream",
     "text": [
      "Not null values in the series are :  5\n",
      "Duplicate values in the series are :  2\n"
     ]
    }
   ],
   "source": [
    "print('Not null values in the series are : ',ser.count())\n",
    "\n",
    "none_vals = len(ser[ser.duplicated()])\n",
    "print('Duplicate values in the series are : ',none_vals)"
   ]
  },
  {
   "cell_type": "code",
   "execution_count": 16,
   "id": "fe3b255b",
   "metadata": {},
   "outputs": [
    {
     "data": {
      "text/plain": [
       "2"
      ]
     },
     "execution_count": 16,
     "metadata": {},
     "output_type": "execute_result"
    }
   ],
   "source": [
    "ser.duplicated().sum()"
   ]
  },
  {
   "cell_type": "markdown",
   "id": "e84f39f2",
   "metadata": {},
   "source": [
    "### Question 3\n",
    "WAP to fill the nan values in series (if any) with mean of first three elements of series."
   ]
  },
  {
   "cell_type": "code",
   "execution_count": 15,
   "id": "29c9ece6",
   "metadata": {},
   "outputs": [
    {
     "data": {
      "text/plain": [
       "a    1.00\n",
       "b    2.00\n",
       "c    4.00\n",
       "d    2.33\n",
       "e    4.00\n",
       "f    2.33\n",
       "g    7.00\n",
       "dtype: float64"
      ]
     },
     "execution_count": 15,
     "metadata": {},
     "output_type": "execute_result"
    }
   ],
   "source": [
    "na_values = ser[ser.isna()].index\n",
    "for i in range( len(na_values)):\n",
    "    ser[na_values[i]] = ((ser[0] + ser[1] + ser[2])/3)\n",
    "    \n",
    "ser = ser.astype(float)\n",
    "ser.round(2)"
   ]
  },
  {
   "cell_type": "code",
   "execution_count": 17,
   "id": "4643285e",
   "metadata": {},
   "outputs": [
    {
     "data": {
      "text/plain": [
       "a    1.000000\n",
       "b    2.000000\n",
       "c    4.000000\n",
       "d    2.333333\n",
       "e    4.000000\n",
       "f    2.333333\n",
       "g    7.000000\n",
       "dtype: float64"
      ]
     },
     "execution_count": 17,
     "metadata": {},
     "output_type": "execute_result"
    }
   ],
   "source": [
    "ser.fillna(ser[0:3].mean())"
   ]
  },
  {
   "cell_type": "code",
   "execution_count": 25,
   "id": "e70e8a21",
   "metadata": {},
   "outputs": [
    {
     "data": {
      "text/plain": [
       "a    1.0\n",
       "b    2.0\n",
       "c    NaN\n",
       "d    NaN\n",
       "e    5.0\n",
       "f    NaN\n",
       "g    7.0\n",
       "dtype: float64"
      ]
     },
     "execution_count": 25,
     "metadata": {},
     "output_type": "execute_result"
    }
   ],
   "source": [
    "ser = pd.Series({'a':1,'b':2,'c':np.nan,'d':np.nan,'e':5,'f':None,'g':7})\n",
    "ser"
   ]
  },
  {
   "cell_type": "code",
   "execution_count": 26,
   "id": "33ed83fa",
   "metadata": {},
   "outputs": [
    {
     "data": {
      "text/plain": [
       "a    1.0\n",
       "b    2.0\n",
       "c    5.0\n",
       "d    5.0\n",
       "e    5.0\n",
       "f    7.0\n",
       "g    7.0\n",
       "dtype: float64"
      ]
     },
     "execution_count": 26,
     "metadata": {},
     "output_type": "execute_result"
    }
   ],
   "source": [
    "ser.fillna(method = 'bfill')"
   ]
  },
  {
   "cell_type": "code",
   "execution_count": 24,
   "id": "72e59af4",
   "metadata": {},
   "outputs": [
    {
     "data": {
      "text/plain": [
       "a    1.0\n",
       "b    2.0\n",
       "c    4.0\n",
       "d    4.0\n",
       "e    5.0\n",
       "f    5.0\n",
       "g    7.0\n",
       "dtype: float64"
      ]
     },
     "execution_count": 24,
     "metadata": {},
     "output_type": "execute_result"
    }
   ],
   "source": [
    "ser.fillna(method = 'ffill')"
   ]
  },
  {
   "cell_type": "code",
   "execution_count": 28,
   "id": "de56481f",
   "metadata": {},
   "outputs": [
    {
     "data": {
      "text/plain": [
       "a    2.0\n",
       "b    1.0\n",
       "c    1.0\n",
       "d    1.0\n",
       "e    2.0\n",
       "dtype: float64"
      ]
     },
     "execution_count": 28,
     "metadata": {},
     "output_type": "execute_result"
    }
   ],
   "source": [
    "a = pd.Series([1, 1, 1, np.nan], index=['a', 'b', 'c', 'd'])\n",
    "b = pd.Series([1, np.nan, 1, 2], index=['a', 'b', 'd', 'e'])\n",
    "a.add(b, fill_value=0)"
   ]
  },
  {
   "cell_type": "code",
   "execution_count": null,
   "id": "d871003a",
   "metadata": {},
   "outputs": [],
   "source": []
  }
 ],
 "metadata": {
  "kernelspec": {
   "display_name": "Python 3 (ipykernel)",
   "language": "python",
   "name": "python3"
  },
  "language_info": {
   "codemirror_mode": {
    "name": "ipython",
    "version": 3
   },
   "file_extension": ".py",
   "mimetype": "text/x-python",
   "name": "python",
   "nbconvert_exporter": "python",
   "pygments_lexer": "ipython3",
   "version": "3.10.5"
  }
 },
 "nbformat": 4,
 "nbformat_minor": 5
}
