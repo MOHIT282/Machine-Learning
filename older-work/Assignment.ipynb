{
 "cells": [
  {
   "cell_type": "code",
   "execution_count": 2,
   "id": "71b14c02",
   "metadata": {},
   "outputs": [
    {
     "data": {
      "text/plain": [
       "ip           95\n",
       "physics      89\n",
       "chemistry    92\n",
       "maths        95\n",
       "dtype: int64"
      ]
     },
     "execution_count": 2,
     "metadata": {},
     "output_type": "execute_result"
    }
   ],
   "source": [
    "import pandas as pd\n",
    "\n",
    "dict = {'ip':95,'physics':89,'chemistry':92,'maths':95}\n",
    "\n",
    "ser = pd.Series(dict)\n",
    "\n",
    "ser"
   ]
  },
  {
   "cell_type": "code",
   "execution_count": 4,
   "id": "d06a85a1",
   "metadata": {},
   "outputs": [
    {
     "data": {
      "text/plain": [
       "ip           96\n",
       "physics      90\n",
       "chemistry    93\n",
       "maths        96\n",
       "dtype: int64"
      ]
     },
     "execution_count": 4,
     "metadata": {},
     "output_type": "execute_result"
    }
   ],
   "source": [
    "ser.apply(lambda x: x + 1)"
   ]
  },
  {
   "cell_type": "code",
   "execution_count": 5,
   "id": "5878dec6",
   "metadata": {},
   "outputs": [
    {
     "data": {
      "text/plain": [
       "ip           96\n",
       "physics      90\n",
       "chemistry    93\n",
       "maths        96\n",
       "dtype: int64"
      ]
     },
     "execution_count": 5,
     "metadata": {},
     "output_type": "execute_result"
    }
   ],
   "source": [
    "ser + 1"
   ]
  },
  {
   "cell_type": "code",
   "execution_count": 8,
   "id": "d8581b61",
   "metadata": {},
   "outputs": [
    {
     "data": {
      "text/plain": [
       "chemistry    92\n",
       "dtype: int64"
      ]
     },
     "execution_count": 8,
     "metadata": {},
     "output_type": "execute_result"
    }
   ],
   "source": [
    "ser[(ser * ser) % 2 == 0]"
   ]
  },
  {
   "cell_type": "code",
   "execution_count": 9,
   "id": "fa904e65",
   "metadata": {},
   "outputs": [
    {
     "data": {
      "text/plain": [
       "Index(['ip', 'physics', 'chemistry', 'maths'], dtype='object')"
      ]
     },
     "execution_count": 9,
     "metadata": {},
     "output_type": "execute_result"
    }
   ],
   "source": [
    "ser.index"
   ]
  },
  {
   "cell_type": "code",
   "execution_count": 27,
   "id": "fbc5f9fd",
   "metadata": {},
   "outputs": [
    {
     "data": {
      "text/plain": [
       "physics      89\n",
       "chemistry    92\n",
       "maths        95\n",
       "dtype: int64"
      ]
     },
     "execution_count": 27,
     "metadata": {},
     "output_type": "execute_result"
    }
   ],
   "source": [
    "ser[ser.index.str.len() > 2]"
   ]
  },
  {
   "cell_type": "code",
   "execution_count": 3,
   "id": "2b5fcf5c",
   "metadata": {},
   "outputs": [
    {
     "data": {
      "text/plain": [
       "ip           95\n",
       "physics      89\n",
       "chemistry    92\n",
       "maths        95\n",
       "dtype: int64"
      ]
     },
     "execution_count": 3,
     "metadata": {},
     "output_type": "execute_result"
    }
   ],
   "source": [
    "ser"
   ]
  },
  {
   "cell_type": "code",
   "execution_count": null,
   "id": "ce2ba601",
   "metadata": {},
   "outputs": [],
   "source": []
  }
 ],
 "metadata": {
  "kernelspec": {
   "display_name": "Python 3 (ipykernel)",
   "language": "python",
   "name": "python3"
  },
  "language_info": {
   "codemirror_mode": {
    "name": "ipython",
    "version": 3
   },
   "file_extension": ".py",
   "mimetype": "text/x-python",
   "name": "python",
   "nbconvert_exporter": "python",
   "pygments_lexer": "ipython3",
   "version": "3.10.5"
  }
 },
 "nbformat": 4,
 "nbformat_minor": 5
}
