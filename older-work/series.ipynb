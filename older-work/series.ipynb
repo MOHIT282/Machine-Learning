{
 "cells": [
  {
   "cell_type": "code",
   "execution_count": 18,
   "id": "536393bc",
   "metadata": {},
   "outputs": [],
   "source": [
    "import pandas as pd\n",
    "import numpy as np"
   ]
  },
  {
   "cell_type": "code",
   "execution_count": 2,
   "id": "eccb710a",
   "metadata": {},
   "outputs": [
    {
     "data": {
      "text/plain": [
       "name      python\n",
       "type    language\n",
       "0          hello\n",
       "dtype: object"
      ]
     },
     "execution_count": 2,
     "metadata": {},
     "output_type": "execute_result"
    }
   ],
   "source": [
    "a = pd.Series({'name': 'python', 'type': 'language', 0: 'hello'})\n",
    "a"
   ]
  },
  {
   "cell_type": "code",
   "execution_count": 8,
   "id": "a5a6e15d",
   "metadata": {},
   "outputs": [
    {
     "data": {
      "text/plain": [
       "'language'"
      ]
     },
     "execution_count": 8,
     "metadata": {},
     "output_type": "execute_result"
    }
   ],
   "source": [
    "a['type']"
   ]
  },
  {
   "cell_type": "code",
   "execution_count": 9,
   "id": "747af2e7",
   "metadata": {},
   "outputs": [
    {
     "data": {
      "text/plain": [
       "'language'"
      ]
     },
     "execution_count": 9,
     "metadata": {},
     "output_type": "execute_result"
    }
   ],
   "source": [
    "a.type"
   ]
  },
  {
   "cell_type": "code",
   "execution_count": 10,
   "id": "a0ab4ac4",
   "metadata": {},
   "outputs": [
    {
     "ename": "SyntaxError",
     "evalue": "invalid syntax (1271385532.py, line 1)",
     "output_type": "error",
     "traceback": [
      "\u001b[1;36m  Cell \u001b[1;32mIn[10], line 1\u001b[1;36m\u001b[0m\n\u001b[1;33m    a.0\u001b[0m\n\u001b[1;37m     ^\u001b[0m\n\u001b[1;31mSyntaxError\u001b[0m\u001b[1;31m:\u001b[0m invalid syntax\n"
     ]
    }
   ],
   "source": [
    "# a.0"
   ]
  },
  {
   "cell_type": "code",
   "execution_count": 3,
   "id": "a331756d",
   "metadata": {},
   "outputs": [
    {
     "data": {
      "text/plain": [
       "'hello'"
      ]
     },
     "execution_count": 3,
     "metadata": {},
     "output_type": "execute_result"
    }
   ],
   "source": [
    "a[0]"
   ]
  },
  {
   "cell_type": "code",
   "execution_count": 5,
   "id": "0e3f2c7b",
   "metadata": {},
   "outputs": [],
   "source": [
    "# a[1]"
   ]
  },
  {
   "cell_type": "code",
   "execution_count": 6,
   "id": "61f19101",
   "metadata": {},
   "outputs": [
    {
     "data": {
      "text/plain": [
       "'language'"
      ]
     },
     "execution_count": 6,
     "metadata": {},
     "output_type": "execute_result"
    }
   ],
   "source": [
    "# a[1]\n",
    "a.iat[1]"
   ]
  },
  {
   "cell_type": "code",
   "execution_count": 8,
   "id": "5a5a88e5",
   "metadata": {},
   "outputs": [],
   "source": [
    "# a.iat[10]"
   ]
  },
  {
   "cell_type": "code",
   "execution_count": 10,
   "id": "e3dac9ff",
   "metadata": {},
   "outputs": [],
   "source": [
    "# a.loc[1]"
   ]
  },
  {
   "cell_type": "code",
   "execution_count": 11,
   "id": "767f23c7",
   "metadata": {},
   "outputs": [
    {
     "data": {
      "text/plain": [
       "name    python\n",
       "0        hello\n",
       "dtype: object"
      ]
     },
     "execution_count": 11,
     "metadata": {},
     "output_type": "execute_result"
    }
   ],
   "source": [
    "a.loc[['name', 0]]"
   ]
  },
  {
   "cell_type": "code",
   "execution_count": 12,
   "id": "f4a96357",
   "metadata": {},
   "outputs": [
    {
     "data": {
      "text/plain": [
       "name      python\n",
       "type    language\n",
       "0          hello\n",
       "dtype: object"
      ]
     },
     "execution_count": 12,
     "metadata": {},
     "output_type": "execute_result"
    }
   ],
   "source": [
    "a"
   ]
  },
  {
   "cell_type": "code",
   "execution_count": 13,
   "id": "93b40669",
   "metadata": {},
   "outputs": [
    {
     "data": {
      "text/plain": [
       "name      python\n",
       "type    language\n",
       "0          hello\n",
       "dtype: object"
      ]
     },
     "execution_count": 13,
     "metadata": {},
     "output_type": "execute_result"
    }
   ],
   "source": [
    "a.loc['name': 0]"
   ]
  },
  {
   "cell_type": "code",
   "execution_count": 14,
   "id": "76669787",
   "metadata": {},
   "outputs": [
    {
     "data": {
      "text/plain": [
       "name      python\n",
       "type    language\n",
       "dtype: object"
      ]
     },
     "execution_count": 14,
     "metadata": {},
     "output_type": "execute_result"
    }
   ],
   "source": [
    "a.iloc[:2]"
   ]
  },
  {
   "cell_type": "code",
   "execution_count": 16,
   "id": "8567ef60",
   "metadata": {},
   "outputs": [
    {
     "data": {
      "text/plain": [
       "0    1\n",
       "1    2\n",
       "2    3\n",
       "3    4\n",
       "4    5\n",
       "dtype: object"
      ]
     },
     "execution_count": 16,
     "metadata": {},
     "output_type": "execute_result"
    }
   ],
   "source": [
    "b = pd.Series([1, 2, 3, 4, 5], dtype = 'object')\n",
    "b"
   ]
  },
  {
   "cell_type": "code",
   "execution_count": 17,
   "id": "1c0a085a",
   "metadata": {},
   "outputs": [
    {
     "data": {
      "text/plain": [
       "a      NaN\n",
       "a      NaN\n",
       "0    hello\n",
       "dtype: object"
      ]
     },
     "execution_count": 17,
     "metadata": {},
     "output_type": "execute_result"
    }
   ],
   "source": [
    "a = pd.Series({'name': 'python', 'type': 'language', '0': 'hello'}, index = ['a', 'a', '0'], copy = True)\n",
    "a"
   ]
  },
  {
   "cell_type": "code",
   "execution_count": 21,
   "id": "828db60e",
   "metadata": {},
   "outputs": [
    {
     "name": "stdout",
     "output_type": "stream",
     "text": [
      "[1, 2, 3]\n"
     ]
    }
   ],
   "source": [
    "b = [1, 2, 3]\n",
    "ser = pd.Series(b, copy=True)\n",
    "ser.iloc[0] = 999\n",
    "print(b)"
   ]
  },
  {
   "cell_type": "code",
   "execution_count": 20,
   "id": "741925f6",
   "metadata": {},
   "outputs": [
    {
     "data": {
      "text/plain": [
       "0    999\n",
       "1      2\n",
       "Name: series1, dtype: int32"
      ]
     },
     "execution_count": 20,
     "metadata": {},
     "output_type": "execute_result"
    }
   ],
   "source": [
    "r = np.array([1, 2])\n",
    "ser = pd.Series(r, copy=False, name = 'series1')\n",
    "ser.loc[0] = 999\n",
    "ser"
   ]
  },
  {
   "cell_type": "code",
   "execution_count": null,
   "id": "e6f7d531",
   "metadata": {},
   "outputs": [],
   "source": [
    "r"
   ]
  },
  {
   "cell_type": "code",
   "execution_count": null,
   "id": "d2cfe4e5",
   "metadata": {},
   "outputs": [],
   "source": [
    "r = np.array([1, 2])\n",
    "ser = pd.Series(r, copy=True)\n",
    "ser.iloc[0] = 999\n",
    "\n",
    "r"
   ]
  },
  {
   "cell_type": "code",
   "execution_count": null,
   "id": "393cbc29",
   "metadata": {},
   "outputs": [],
   "source": [
    "# adding elements to series\n",
    "a['qual'] = 'BTech'\n",
    "a"
   ]
  },
  {
   "cell_type": "code",
   "execution_count": null,
   "id": "b5eb0875",
   "metadata": {},
   "outputs": [],
   "source": [
    "# a[['an', 'm']] = 'MTech'\n",
    "a = pd.Series([10, 20, 30])\n",
    "a.loc[['an', 'm']] = [['Btech', 'Mtech']]\n",
    "a"
   ]
  },
  {
   "cell_type": "code",
   "execution_count": null,
   "id": "2306c8b0",
   "metadata": {},
   "outputs": [],
   "source": [
    "profit = {'TCS': 350,'Reliance':200,'L&T':800,'Wipro':150}\n",
    "profit_series = pd.Series(profit, name = 'profit')"
   ]
  },
  {
   "cell_type": "code",
   "execution_count": null,
   "id": "de384341",
   "metadata": {},
   "outputs": [
    {
     "data": {
      "text/plain": [
       "TCS    350\n",
       "L&T    800\n",
       "Name: profit, dtype: int64"
      ]
     },
     "execution_count": 5,
     "metadata": {},
     "output_type": "execute_result"
    }
   ],
   "source": [
    "profit_series[profit_series > 300]"
   ]
  },
  {
   "cell_type": "code",
   "execution_count": null,
   "id": "caf0f76b",
   "metadata": {},
   "outputs": [
    {
     "data": {
      "text/plain": [
       "ip           95\n",
       "physics      89\n",
       "chemistry    92\n",
       "maths        95\n",
       "dtype: int64"
      ]
     },
     "execution_count": 21,
     "metadata": {},
     "output_type": "execute_result"
    }
   ],
   "source": [
    "dict = {'ip':95,'physics':89,'chemistry':92,'maths':95}\n",
    "\n",
    "ser = pd.Series(dict)\n",
    "\n",
    "ser"
   ]
  },
  {
   "cell_type": "code",
   "execution_count": null,
   "id": "a125dfa7",
   "metadata": {},
   "outputs": [],
   "source": [
    "ser += 10"
   ]
  },
  {
   "cell_type": "code",
   "execution_count": null,
   "id": "73571b6d",
   "metadata": {},
   "outputs": [
    {
     "data": {
      "text/plain": [
       "ip           105\n",
       "physics       99\n",
       "chemistry    102\n",
       "maths        105\n",
       "dtype: int64"
      ]
     },
     "execution_count": 8,
     "metadata": {},
     "output_type": "execute_result"
    }
   ],
   "source": [
    "ser"
   ]
  },
  {
   "cell_type": "code",
   "execution_count": null,
   "id": "593209d8",
   "metadata": {},
   "outputs": [
    {
     "data": {
      "text/plain": [
       "Index(['ip', 'physics', 'chemistry', 'maths', 'eng', 'hindi'], dtype='object')"
      ]
     },
     "execution_count": 41,
     "metadata": {},
     "output_type": "execute_result"
    }
   ],
   "source": [
    "ind = ser.index\n",
    "ind"
   ]
  },
  {
   "cell_type": "code",
   "execution_count": null,
   "id": "4392fe38",
   "metadata": {},
   "outputs": [
    {
     "name": "stdout",
     "output_type": "stream",
     "text": [
      "ip - 105\n"
     ]
    }
   ],
   "source": [
    "print(f'{ind[0]} - {ser[ind[0]]}')"
   ]
  },
  {
   "cell_type": "code",
   "execution_count": null,
   "id": "da01e353",
   "metadata": {},
   "outputs": [
    {
     "data": {
      "text/plain": [
       "ip    105\n",
       "dtype: int64"
      ]
     },
     "execution_count": 16,
     "metadata": {},
     "output_type": "execute_result"
    }
   ],
   "source": [
    "ser.iloc[0:1]"
   ]
  },
  {
   "cell_type": "code",
   "execution_count": null,
   "id": "1d05a7ed",
   "metadata": {},
   "outputs": [
    {
     "data": {
      "text/plain": [
       "pandas.core.series.Series"
      ]
     },
     "execution_count": 17,
     "metadata": {},
     "output_type": "execute_result"
    }
   ],
   "source": [
    "type(ser.iloc[0:1])"
   ]
  },
  {
   "cell_type": "code",
   "execution_count": null,
   "id": "ef86e9ad",
   "metadata": {},
   "outputs": [
    {
     "data": {
      "text/plain": [
       "numpy.int64"
      ]
     },
     "execution_count": 18,
     "metadata": {},
     "output_type": "execute_result"
    }
   ],
   "source": [
    "type(ser.iloc[0])"
   ]
  },
  {
   "cell_type": "code",
   "execution_count": null,
   "id": "9fa8bdbd",
   "metadata": {},
   "outputs": [
    {
     "data": {
      "text/plain": [
       "ip           95\n",
       "physics      89\n",
       "chemistry    92\n",
       "maths        95\n",
       "dtype: int64"
      ]
     },
     "execution_count": 22,
     "metadata": {},
     "output_type": "execute_result"
    }
   ],
   "source": [
    "ser"
   ]
  },
  {
   "cell_type": "code",
   "execution_count": null,
   "id": "21b018ce",
   "metadata": {},
   "outputs": [
    {
     "data": {
      "text/plain": [
       "ip           85\n",
       "physics      69\n",
       "chemistry    62\n",
       "maths        55\n",
       "dtype: int64"
      ]
     },
     "execution_count": 23,
     "metadata": {},
     "output_type": "execute_result"
    }
   ],
   "source": [
    "ser -= [10, 20, 30, 40]\n",
    "ser"
   ]
  },
  {
   "cell_type": "code",
   "execution_count": null,
   "id": "aeba8c70",
   "metadata": {},
   "outputs": [
    {
     "data": {
      "text/plain": [
       "ip              85\n",
       "physics         69\n",
       "chemistry       62\n",
       "maths           55\n",
       "eng            eng\n",
       "hindi        hindi\n",
       "dtype: object"
      ]
     },
     "execution_count": 25,
     "metadata": {},
     "output_type": "execute_result"
    }
   ],
   "source": [
    "ser['eng'] = 'eng'\n",
    "ser['hindi'] = 'hindi'\n",
    "ser"
   ]
  },
  {
   "cell_type": "code",
   "execution_count": null,
   "id": "72d89e03",
   "metadata": {},
   "outputs": [
    {
     "data": {
      "text/plain": [
       "ip              85\n",
       "physics         69\n",
       "chemistry       62\n",
       "maths           55\n",
       "eng            eng\n",
       "hindi        hindi\n",
       "dtype: object"
      ]
     },
     "execution_count": 29,
     "metadata": {},
     "output_type": "execute_result"
    }
   ],
   "source": [
    "ser"
   ]
  },
  {
   "cell_type": "code",
   "execution_count": null,
   "id": "a654134d",
   "metadata": {},
   "outputs": [],
   "source": [
    "ser = ser.astype('str')"
   ]
  },
  {
   "cell_type": "code",
   "execution_count": null,
   "id": "2190f7eb",
   "metadata": {},
   "outputs": [],
   "source": [
    "ser += '5'"
   ]
  },
  {
   "cell_type": "code",
   "execution_count": null,
   "id": "d6920283",
   "metadata": {},
   "outputs": [
    {
     "data": {
      "text/plain": [
       "ip              855\n",
       "physics         695\n",
       "chemistry       625\n",
       "maths           555\n",
       "eng            eng5\n",
       "hindi        hindi5\n",
       "dtype: object"
      ]
     },
     "execution_count": 34,
     "metadata": {},
     "output_type": "execute_result"
    }
   ],
   "source": [
    "ser"
   ]
  },
  {
   "cell_type": "code",
   "execution_count": null,
   "id": "7488a78d",
   "metadata": {},
   "outputs": [
    {
     "data": {
      "text/plain": [
       "<bound method Series.keys of ip              855\n",
       "physics         695\n",
       "chemistry       625\n",
       "maths           555\n",
       "eng            eng5\n",
       "hindi        hindi5\n",
       "dtype: object>"
      ]
     },
     "execution_count": 35,
     "metadata": {},
     "output_type": "execute_result"
    }
   ],
   "source": [
    "ser.keys"
   ]
  },
  {
   "cell_type": "code",
   "execution_count": null,
   "id": "61fb53fb",
   "metadata": {},
   "outputs": [
    {
     "data": {
      "text/plain": [
       "array(['855', '695', '625', '555', 'eng5', 'hindi5'], dtype=object)"
      ]
     },
     "execution_count": 39,
     "metadata": {},
     "output_type": "execute_result"
    }
   ],
   "source": [
    "a.Series.values()"
   ]
  },
  {
   "cell_type": "code",
   "execution_count": null,
   "id": "e4ff4154",
   "metadata": {},
   "outputs": [
    {
     "data": {
      "text/plain": [
       "(6,)"
      ]
     },
     "execution_count": 40,
     "metadata": {},
     "output_type": "execute_result"
    }
   ],
   "source": [
    "ser.shape"
   ]
  },
  {
   "cell_type": "code",
   "execution_count": null,
   "id": "572eddd8",
   "metadata": {},
   "outputs": [],
   "source": []
  }
 ],
 "metadata": {
  "kernelspec": {
   "display_name": "Python 3 (ipykernel)",
   "language": "python",
   "name": "python3"
  },
  "language_info": {
   "codemirror_mode": {
    "name": "ipython",
    "version": 3
   },
   "file_extension": ".py",
   "mimetype": "text/x-python",
   "name": "python",
   "nbconvert_exporter": "python",
   "pygments_lexer": "ipython3",
   "version": "3.10.5"
  }
 },
 "nbformat": 4,
 "nbformat_minor": 5
}
