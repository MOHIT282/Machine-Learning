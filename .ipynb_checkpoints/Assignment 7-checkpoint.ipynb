{
 "cells": [
  {
   "cell_type": "code",
   "execution_count": 1,
   "id": "ad044094",
   "metadata": {},
   "outputs": [],
   "source": [
    "import pandas as pd"
   ]
  },
  {
   "cell_type": "markdown",
   "id": "ac0d659c",
   "metadata": {},
   "source": [
    "### Question 1 \n",
    "Given the following series in python\n",
    "\n",
    "200 - 700\n",
    "\n",
    "201 - 700\n",
    "\n",
    "202 - 700\n",
    "\n",
    "203 - 700\n",
    "\n",
    "204 - 700\n",
    "\n",
    "205 - 700"
   ]
  },
  {
   "cell_type": "code",
   "execution_count": 4,
   "id": "83187659",
   "metadata": {},
   "outputs": [
    {
     "data": {
      "text/plain": [
       "200    700\n",
       "201    700\n",
       "202    700\n",
       "203    700\n",
       "204    700\n",
       "205    700\n",
       "dtype: int64"
      ]
     },
     "execution_count": 4,
     "metadata": {},
     "output_type": "execute_result"
    }
   ],
   "source": [
    "series = pd.Series(700, index=[200,201,202,203,204,205])\n",
    "series"
   ]
  },
  {
   "cell_type": "markdown",
   "id": "067b4c8a",
   "metadata": {},
   "source": [
    "### Question 2 \n",
    "Create following series and display only IP and increase marks of math by 10 and decrease marks of all subjects by 10\n",
    "\n",
    " IP 95\n",
    " \n",
    " Physics 89\n",
    " \n",
    " Chemistry 92\n",
    " \n",
    " Math 95  "
   ]
  },
  {
   "cell_type": "code",
   "execution_count": 5,
   "id": "07148fe1",
   "metadata": {},
   "outputs": [],
   "source": [
    "dict = {'ip':95,'physics':89,'chemistry':92,'maths':95}\n",
    "\n",
    "ser = pd.Series(dict)"
   ]
  },
  {
   "cell_type": "code",
   "execution_count": 6,
   "id": "1476396d",
   "metadata": {},
   "outputs": [
    {
     "data": {
      "text/plain": [
       "95"
      ]
     },
     "execution_count": 6,
     "metadata": {},
     "output_type": "execute_result"
    }
   ],
   "source": [
    "ser['ip']"
   ]
  },
  {
   "cell_type": "code",
   "execution_count": 7,
   "id": "232e3d16",
   "metadata": {},
   "outputs": [
    {
     "data": {
      "text/plain": [
       "ip           85\n",
       "physics      79\n",
       "chemistry    82\n",
       "maths        95\n",
       "dtype: int64"
      ]
     },
     "execution_count": 7,
     "metadata": {},
     "output_type": "execute_result"
    }
   ],
   "source": [
    "ser.loc['maths'] += 10\n",
    "ser-= 10\n",
    "ser"
   ]
  },
  {
   "cell_type": "markdown",
   "id": "4af64ccd",
   "metadata": {},
   "source": [
    "### Question 3 \n",
    "Create following series and display the company having profit more than 300 and name the series as profit\n",
    "\n",
    " TCS 350\n",
    " \n",
    " Reliance 200\n",
    " \n",
    " L&T 800\n",
    " \n",
    " Wipro 150"
   ]
  },
  {
   "cell_type": "code",
   "execution_count": 8,
   "id": "f8e18227",
   "metadata": {},
   "outputs": [
    {
     "data": {
      "text/plain": [
       "[('TCS', 350), ('Reliance', 200), ('L&T', 800), ('Wipro', 150)]"
      ]
     },
     "execution_count": 8,
     "metadata": {},
     "output_type": "execute_result"
    }
   ],
   "source": [
    "profit = {'TCS': 350,'Reliance':200,'L&T':800,'Wipro':150}\n",
    "profit_series = pd.Series(profit, name = 'profit')\n",
    "\n",
    "list(profit_series.items())"
   ]
  },
  {
   "cell_type": "code",
   "execution_count": 10,
   "id": "0fe11c8c",
   "metadata": {},
   "outputs": [
    {
     "data": {
      "text/plain": [
       "TCS    350\n",
       "L&T    800\n",
       "Name: profit, dtype: int64"
      ]
     },
     "execution_count": 10,
     "metadata": {},
     "output_type": "execute_result"
    }
   ],
   "source": [
    "profit_series[profit_series > 300]"
   ]
  }
 ],
 "metadata": {
  "kernelspec": {
   "display_name": "Python 3 (ipykernel)",
   "language": "python",
   "name": "python3"
  },
  "language_info": {
   "codemirror_mode": {
    "name": "ipython",
    "version": 3
   },
   "file_extension": ".py",
   "mimetype": "text/x-python",
   "name": "python",
   "nbconvert_exporter": "python",
   "pygments_lexer": "ipython3",
   "version": "3.10.5"
  }
 },
 "nbformat": 4,
 "nbformat_minor": 5
}
