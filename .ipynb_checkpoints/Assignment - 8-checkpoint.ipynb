{
 "cells": [
  {
   "cell_type": "code",
   "execution_count": 2,
   "id": "2db2b67d",
   "metadata": {},
   "outputs": [],
   "source": [
    "import pandas as pd"
   ]
  },
  {
   "cell_type": "markdown",
   "id": "8727480f",
   "metadata": {},
   "source": [
    "### Question 1\n",
    "Filter those elements(values) from series whose indexes/labels  have length more than 2."
   ]
  },
  {
   "cell_type": "code",
   "execution_count": 3,
   "id": "b05667f2",
   "metadata": {},
   "outputs": [
    {
     "data": {
      "text/plain": [
       "ip           95\n",
       "physics      89\n",
       "chemistry    92\n",
       "maths        95\n",
       "dtype: int64"
      ]
     },
     "execution_count": 3,
     "metadata": {},
     "output_type": "execute_result"
    }
   ],
   "source": [
    "ser = pd.Series({'ip':95,'physics':89,'chemistry':92,'maths':95})\n",
    "ser"
   ]
  },
  {
   "cell_type": "code",
   "execution_count": 8,
   "id": "bc9059a0",
   "metadata": {},
   "outputs": [
    {
     "data": {
      "text/plain": [
       "array([89, 92, 95], dtype=int64)"
      ]
     },
     "execution_count": 8,
     "metadata": {},
     "output_type": "execute_result"
    }
   ],
   "source": [
    "ser[ser.index.str.len() > 2].values"
   ]
  },
  {
   "cell_type": "markdown",
   "id": "4f2a313b",
   "metadata": {},
   "source": [
    "### Question 2\n",
    "Filter those elements from series whose square is an even number. Hint - it means all elements of series should be numbers."
   ]
  },
  {
   "cell_type": "code",
   "execution_count": 11,
   "id": "471d0f25",
   "metadata": {},
   "outputs": [
    {
     "data": {
      "text/plain": [
       "chemistry    92\n",
       "dtype: int64"
      ]
     },
     "execution_count": 11,
     "metadata": {},
     "output_type": "execute_result"
    }
   ],
   "source": [
    "ser[(ser * ser) % 2 == 0]"
   ]
  }
 ],
 "metadata": {
  "kernelspec": {
   "display_name": "Python 3 (ipykernel)",
   "language": "python",
   "name": "python3"
  },
  "language_info": {
   "codemirror_mode": {
    "name": "ipython",
    "version": 3
   },
   "file_extension": ".py",
   "mimetype": "text/x-python",
   "name": "python",
   "nbconvert_exporter": "python",
   "pygments_lexer": "ipython3",
   "version": "3.10.5"
  }
 },
 "nbformat": 4,
 "nbformat_minor": 5
}
