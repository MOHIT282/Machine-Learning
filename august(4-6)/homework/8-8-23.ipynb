{
 "cells": [
  {
   "cell_type": "code",
   "execution_count": 2,
   "metadata": {},
   "outputs": [],
   "source": [
    "import pandas as pd\n",
    "import numpy as np"
   ]
  },
  {
   "cell_type": "code",
   "execution_count": 30,
   "metadata": {},
   "outputs": [
    {
     "data": {
      "text/plain": [
       "0     aab\n",
       "1      bc\n",
       "2    aaba\n",
       "3      bc\n",
       "dtype: object"
      ]
     },
     "execution_count": 30,
     "metadata": {},
     "output_type": "execute_result"
    }
   ],
   "source": [
    "ser = pd.Series(['aab','bc','aaba','bc'])\n",
    "ser"
   ]
  },
  {
   "cell_type": "code",
   "execution_count": 31,
   "metadata": {},
   "outputs": [
    {
     "data": {
      "text/plain": [
       "0     2aab2\n",
       "1      0bc0\n",
       "2    3aaba3\n",
       "3      0bc0\n",
       "dtype: object"
      ]
     },
     "execution_count": 31,
     "metadata": {},
     "output_type": "execute_result"
    }
   ],
   "source": [
    "def countOccur(line, x):\n",
    "    \n",
    "    # cnt = 0\n",
    "    # for i in line:\n",
    "    #     if (i == x):\n",
    "    #         cnt += 1\n",
    "    cnt = line.count(x)\n",
    "\n",
    "    # print('The value of count is : ',cnt)\n",
    "    return str(cnt) + line + str(cnt)\n",
    "\n",
    "\n",
    "a = ser.apply(countOccur, args=('a',))\n",
    "a"
   ]
  },
  {
   "cell_type": "code",
   "execution_count": 32,
   "metadata": {},
   "outputs": [
    {
     "data": {
      "text/plain": [
       "0     2b2\n",
       "1    0bc0\n",
       "2     3b3\n",
       "3    0bc0\n",
       "dtype: object"
      ]
     },
     "execution_count": 32,
     "metadata": {},
     "output_type": "execute_result"
    }
   ],
   "source": [
    "def deleteVal(line, x):\n",
    "    st = line.replace(x,'')\n",
    "            \n",
    "    return st\n",
    "\n",
    "a.apply(deleteVal, args=('a',))"
   ]
  }
 ],
 "metadata": {
  "kernelspec": {
   "display_name": "Python 3",
   "language": "python",
   "name": "python3"
  },
  "language_info": {
   "codemirror_mode": {
    "name": "ipython",
    "version": 3
   },
   "file_extension": ".py",
   "mimetype": "text/x-python",
   "name": "python",
   "nbconvert_exporter": "python",
   "pygments_lexer": "ipython3",
   "version": "3.10.5"
  },
  "orig_nbformat": 4
 },
 "nbformat": 4,
 "nbformat_minor": 2
}
