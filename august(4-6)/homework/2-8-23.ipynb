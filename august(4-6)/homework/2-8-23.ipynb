{
 "cells": [
  {
   "cell_type": "code",
   "execution_count": 2,
   "metadata": {},
   "outputs": [],
   "source": [
    "import pandas as pd\n",
    "import numpy as np"
   ]
  },
  {
   "cell_type": "markdown",
   "metadata": {},
   "source": [
    "##### Create a series of 100 elements, do the following\n",
    "\n",
    "1. even\n",
    "2. odd\n",
    "3. lie between 2 to 20\n",
    "4. elements that have only 1 digit or 3 digits in them"
   ]
  },
  {
   "cell_type": "code",
   "execution_count": 3,
   "metadata": {},
   "outputs": [
    {
     "data": {
      "text/plain": [
       "1          1\n",
       "4          2\n",
       "9          3\n",
       "16         4\n",
       "25         5\n",
       "        ... \n",
       "9216      96\n",
       "9409      97\n",
       "9604      98\n",
       "9801      99\n",
       "10000    100\n",
       "Length: 100, dtype: int64"
      ]
     },
     "execution_count": 3,
     "metadata": {},
     "output_type": "execute_result"
    }
   ],
   "source": [
    "ser = pd.Series(data=[x for x in range(1,101)],index=[x**2 for x in range(1,101)])\n",
    "ser"
   ]
  },
  {
   "cell_type": "code",
   "execution_count": 4,
   "metadata": {},
   "outputs": [
    {
     "data": {
      "text/plain": [
       "4          2\n",
       "16         4\n",
       "36         6\n",
       "64         8\n",
       "100       10\n",
       "144       12\n",
       "196       14\n",
       "256       16\n",
       "324       18\n",
       "400       20\n",
       "484       22\n",
       "576       24\n",
       "676       26\n",
       "784       28\n",
       "900       30\n",
       "1024      32\n",
       "1156      34\n",
       "1296      36\n",
       "1444      38\n",
       "1600      40\n",
       "1764      42\n",
       "1936      44\n",
       "2116      46\n",
       "2304      48\n",
       "2500      50\n",
       "2704      52\n",
       "2916      54\n",
       "3136      56\n",
       "3364      58\n",
       "3600      60\n",
       "3844      62\n",
       "4096      64\n",
       "4356      66\n",
       "4624      68\n",
       "4900      70\n",
       "5184      72\n",
       "5476      74\n",
       "5776      76\n",
       "6084      78\n",
       "6400      80\n",
       "6724      82\n",
       "7056      84\n",
       "7396      86\n",
       "7744      88\n",
       "8100      90\n",
       "8464      92\n",
       "8836      94\n",
       "9216      96\n",
       "9604      98\n",
       "10000    100\n",
       "dtype: int64"
      ]
     },
     "execution_count": 4,
     "metadata": {},
     "output_type": "execute_result"
    }
   ],
   "source": [
    "ser[ser%2== 0]\n",
    "# ser.iloc[1: :2]"
   ]
  },
  {
   "cell_type": "code",
   "execution_count": 16,
   "metadata": {},
   "outputs": [
    {
     "data": {
      "text/plain": [
       "1        1\n",
       "9        3\n",
       "25       5\n",
       "49       7\n",
       "81       9\n",
       "121     11\n",
       "169     13\n",
       "225     15\n",
       "289     17\n",
       "361     19\n",
       "441     21\n",
       "529     23\n",
       "625     25\n",
       "729     27\n",
       "841     29\n",
       "961     31\n",
       "1089    33\n",
       "1225    35\n",
       "1369    37\n",
       "1521    39\n",
       "1681    41\n",
       "1849    43\n",
       "2025    45\n",
       "2209    47\n",
       "2401    49\n",
       "2601    51\n",
       "2809    53\n",
       "3025    55\n",
       "3249    57\n",
       "3481    59\n",
       "3721    61\n",
       "3969    63\n",
       "4225    65\n",
       "4489    67\n",
       "4761    69\n",
       "5041    71\n",
       "5329    73\n",
       "5625    75\n",
       "5929    77\n",
       "6241    79\n",
       "6561    81\n",
       "6889    83\n",
       "7225    85\n",
       "7569    87\n",
       "7921    89\n",
       "8281    91\n",
       "8649    93\n",
       "9025    95\n",
       "9409    97\n",
       "9801    99\n",
       "dtype: int64"
      ]
     },
     "execution_count": 16,
     "metadata": {},
     "output_type": "execute_result"
    }
   ],
   "source": [
    "ser.loc[ser % 2 != 0]\n",
    "# ser[ser % 2 != 0]\n",
    "# ser.iloc[0::2]"
   ]
  },
  {
   "cell_type": "code",
   "execution_count": 23,
   "metadata": {},
   "outputs": [
    {
     "data": {
      "text/plain": [
       "9       3\n",
       "16      4\n",
       "25      5\n",
       "36      6\n",
       "49      7\n",
       "64      8\n",
       "81      9\n",
       "100    10\n",
       "121    11\n",
       "144    12\n",
       "169    13\n",
       "196    14\n",
       "225    15\n",
       "256    16\n",
       "289    17\n",
       "324    18\n",
       "361    19\n",
       "dtype: int64"
      ]
     },
     "execution_count": 23,
     "metadata": {},
     "output_type": "execute_result"
    }
   ],
   "source": [
    "# ser.iloc[1:20]\n",
    "# ser[(ser >= 2) & (ser <= 20 )]\n",
    "ser[ser.between(2,20, inclusive='left')] # 3 - 20\n",
    "ser[ser.between(2,20, inclusive='right')] # 2 -19\n",
    "ser[ser.between(2,20, inclusive='both')] # 2 - 20\n",
    "ser[ser.between(2,20, inclusive='neither')] # 3 - 19"
   ]
  },
  {
   "cell_type": "code",
   "execution_count": 22,
   "metadata": {},
   "outputs": [
    {
     "name": "stdout",
     "output_type": "stream",
     "text": [
      "[1, 2, 3, 4, 5, 6, 7, 8, 9, 100]\n"
     ]
    }
   ],
   "source": [
    "filtered_elements = [x for x in ser if len(str(x)) == 1 or len(str(x)) == 3]\n",
    "print(filtered_elements)"
   ]
  },
  {
   "cell_type": "markdown",
   "metadata": {},
   "source": [
    "- .astype() is used to typecast a pandas series into the specified datatype"
   ]
  },
  {
   "cell_type": "code",
   "execution_count": 32,
   "metadata": {},
   "outputs": [
    {
     "data": {
      "text/plain": [
       "dtype('O')"
      ]
     },
     "execution_count": 32,
     "metadata": {},
     "output_type": "execute_result"
    }
   ],
   "source": [
    "ser = ser.astype('str')\n",
    "# ser = ser.astype('int64')\n",
    "ser.dtype"
   ]
  },
  {
   "cell_type": "code",
   "execution_count": 35,
   "metadata": {},
   "outputs": [
    {
     "data": {
      "text/plain": [
       "1          1\n",
       "4          2\n",
       "9          3\n",
       "16         4\n",
       "25         5\n",
       "36         6\n",
       "49         7\n",
       "64         8\n",
       "81         9\n",
       "10000    100\n",
       "dtype: object"
      ]
     },
     "execution_count": 35,
     "metadata": {},
     "output_type": "execute_result"
    }
   ],
   "source": [
    "ser[(ser.str.len() == 1) | (ser.str.len() == 3)]"
   ]
  },
  {
   "cell_type": "markdown",
   "metadata": {},
   "source": [
    "- .isin() is used to find the elements if they exist in the specified iterables"
   ]
  },
  {
   "cell_type": "code",
   "execution_count": 39,
   "metadata": {},
   "outputs": [
    {
     "data": {
      "text/plain": [
       "1          1\n",
       "4          2\n",
       "9          3\n",
       "16         4\n",
       "25         5\n",
       "36         6\n",
       "49         7\n",
       "64         8\n",
       "81         9\n",
       "10000    100\n",
       "dtype: object"
      ]
     },
     "execution_count": 39,
     "metadata": {},
     "output_type": "execute_result"
    }
   ],
   "source": [
    "ser[ser.str.len().isin([1,3])]"
   ]
  }
 ],
 "metadata": {
  "kernelspec": {
   "display_name": "Python 3",
   "language": "python",
   "name": "python3"
  },
  "language_info": {
   "codemirror_mode": {
    "name": "ipython",
    "version": 3
   },
   "file_extension": ".py",
   "mimetype": "text/x-python",
   "name": "python",
   "nbconvert_exporter": "python",
   "pygments_lexer": "ipython3",
   "version": "3.10.5"
  },
  "orig_nbformat": 4
 },
 "nbformat": 4,
 "nbformat_minor": 2
}
