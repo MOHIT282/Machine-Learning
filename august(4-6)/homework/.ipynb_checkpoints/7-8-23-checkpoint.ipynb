{
 "cells": [
  {
   "cell_type": "markdown",
   "metadata": {},
   "source": [
    "#### Implement functions on the series\n",
    "\n",
    "- fill the nan values with their labels\n",
    "- fill the nan values with the mean of their succesor's labels"
   ]
  },
  {
   "cell_type": "code",
   "execution_count": 1,
   "metadata": {},
   "outputs": [],
   "source": [
    "import pandas as pd\n",
    "import numpy as np\n"
   ]
  },
  {
   "cell_type": "code",
   "execution_count": 7,
   "metadata": {},
   "outputs": [
    {
     "data": {
      "text/plain": [
       "0     1.0\n",
       "1     NaN\n",
       "2     3.0\n",
       "3     4.0\n",
       "4     5.0\n",
       "5     NaN\n",
       "6     6.0\n",
       "7     7.0\n",
       "8     8.0\n",
       "9     9.0\n",
       "10    NaN\n",
       "dtype: float64"
      ]
     },
     "execution_count": 7,
     "metadata": {},
     "output_type": "execute_result"
    }
   ],
   "source": [
    "a = pd.Series([1,None, 3, 4,5,None, 6,7,8,9, None])\n",
    "a"
   ]
  },
  {
   "cell_type": "code",
   "execution_count": 8,
   "metadata": {},
   "outputs": [],
   "source": [
    "nan_indexes = a[a.isna()].index"
   ]
  },
  {
   "cell_type": "code",
   "execution_count": 12,
   "metadata": {},
   "outputs": [
    {
     "data": {
      "text/plain": [
       "0      1\n",
       "1      1\n",
       "2      3\n",
       "3      4\n",
       "4      5\n",
       "5      5\n",
       "6      6\n",
       "7      7\n",
       "8      8\n",
       "9      9\n",
       "10    10\n",
       "dtype: int32"
      ]
     },
     "execution_count": 12,
     "metadata": {},
     "output_type": "execute_result"
    }
   ],
   "source": [
    "a.loc[nan_indexes] = nan_indexes \n",
    "a = a.astype('int')\n",
    "a"
   ]
  },
  {
   "cell_type": "code",
   "execution_count": 3,
   "metadata": {},
   "outputs": [
    {
     "data": {
      "text/plain": [
       "0      1.0\n",
       "1      1.0\n",
       "2      3.0\n",
       "3      4.0\n",
       "4      5.0\n",
       "5      5.0\n",
       "6      6.0\n",
       "7      7.0\n",
       "8      8.0\n",
       "9      9.0\n",
       "10    10.0\n",
       "dtype: float64"
      ]
     },
     "execution_count": 3,
     "metadata": {},
     "output_type": "execute_result"
    }
   ],
   "source": [
    "a[a.isna()] = a[a.isna()].index\n",
    "a"
   ]
  },
  {
   "cell_type": "code",
   "execution_count": 4,
   "metadata": {},
   "outputs": [
    {
     "data": {
      "text/plain": [
       "0      1.0\n",
       "1      NaN\n",
       "2      3.0\n",
       "3      4.0\n",
       "4      5.0\n",
       "5      NaN\n",
       "6      6.0\n",
       "7      7.0\n",
       "8      8.0\n",
       "9      9.0\n",
       "10     NaN\n",
       "11    11.0\n",
       "12    12.0\n",
       "13    13.0\n",
       "14    14.0\n",
       "dtype: float64"
      ]
     },
     "execution_count": 4,
     "metadata": {},
     "output_type": "execute_result"
    }
   ],
   "source": [
    "b = pd.Series([1,None, 3, 4,5,None, 6,7,8,9, None,11,12,13,14])\n",
    "b"
   ]
  },
  {
   "cell_type": "code",
   "execution_count": 5,
   "metadata": {},
   "outputs": [
    {
     "data": {
      "text/plain": [
       "0      1.000000\n",
       "1      6.333333\n",
       "2      3.000000\n",
       "3      4.000000\n",
       "4      5.000000\n",
       "5      6.333333\n",
       "6      6.000000\n",
       "7      7.000000\n",
       "8      8.000000\n",
       "9      9.000000\n",
       "10     6.333333\n",
       "11    11.000000\n",
       "12    12.000000\n",
       "13    13.000000\n",
       "14    14.000000\n",
       "dtype: float64"
      ]
     },
     "execution_count": 5,
     "metadata": {},
     "output_type": "execute_result"
    }
   ],
   "source": [
    "b[b.isna()] =  np.mean(b[b.isna()].index+1)\n",
    "b"
   ]
  }
 ],
 "metadata": {
  "kernelspec": {
   "display_name": "Python 3 (ipykernel)",
   "language": "python",
   "name": "python3"
  },
  "language_info": {
   "codemirror_mode": {
    "name": "ipython",
    "version": 3
   },
   "file_extension": ".py",
   "mimetype": "text/x-python",
   "name": "python",
   "nbconvert_exporter": "python",
   "pygments_lexer": "ipython3",
   "version": "3.10.5"
  }
 },
 "nbformat": 4,
 "nbformat_minor": 2
}
