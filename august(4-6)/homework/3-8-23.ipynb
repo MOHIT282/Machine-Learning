{
 "cells": [
  {
   "cell_type": "markdown",
   "metadata": {},
   "source": [
    "#### WAP to insert elements in the series at a particular position"
   ]
  },
  {
   "cell_type": "code",
   "execution_count": 7,
   "metadata": {},
   "outputs": [],
   "source": [
    "import pandas as pd\n",
    "import numpy as np"
   ]
  },
  {
   "cell_type": "code",
   "execution_count": 8,
   "metadata": {},
   "outputs": [
    {
     "data": {
      "text/plain": [
       "0     1\n",
       "1     2\n",
       "2     3\n",
       "3     4\n",
       "4     5\n",
       "5     6\n",
       "6     7\n",
       "7     8\n",
       "8     9\n",
       "9    10\n",
       "dtype: int64"
      ]
     },
     "execution_count": 8,
     "metadata": {},
     "output_type": "execute_result"
    }
   ],
   "source": [
    "a = pd.Series(range(1,11))\n",
    "a"
   ]
  },
  {
   "cell_type": "code",
   "execution_count": 23,
   "metadata": {},
   "outputs": [],
   "source": [
    "index = int(input('Enter the index at which you want to add the element : '))\n",
    "label = input('Enter the label you want to insert : ')\n",
    "value = (input('Enter the value you want to insert :'))"
   ]
  },
  {
   "cell_type": "code",
   "execution_count": 14,
   "metadata": {},
   "outputs": [
    {
     "data": {
      "text/plain": [
       "0.0          1\n",
       "1.0          2\n",
       "2.0          3\n",
       "3.0          4\n",
       "4.0          5\n",
       "5.0          6\n",
       "6.0          7\n",
       "hello    world\n",
       "7.0          8\n",
       "8.0          9\n",
       "9.0         10\n",
       "0.5         60\n",
       "dtype: object"
      ]
     },
     "execution_count": 14,
     "metadata": {},
     "output_type": "execute_result"
    }
   ],
   "source": [
    "temp = pd.concat((a.iloc[:index],pd.Series({label: value}),a.iloc[index:]))\n",
    "temp"
   ]
  },
  {
   "cell_type": "markdown",
   "metadata": {},
   "source": [
    "#### Alternative way"
   ]
  },
  {
   "cell_type": "code",
   "execution_count": 28,
   "metadata": {},
   "outputs": [
    {
     "data": {
      "text/plain": [
       "0.0     1\n",
       "1.0     2\n",
       "2.0     3\n",
       "3.0     4\n",
       "4.0     5\n",
       "5.0     6\n",
       "6.0     7\n",
       "7.0     8\n",
       "8.0     9\n",
       "9.0    10\n",
       "0.5    60\n",
       "5.5    56\n",
       "dtype: object"
      ]
     },
     "execution_count": 28,
     "metadata": {},
     "output_type": "execute_result"
    }
   ],
   "source": [
    "# just minus 0.5 from the position you want to insert your element and sort the indexes using sort_index() function\n",
    "# suppose user inputs 1 as their position so the postion you want is 1 - 0.5 = 0.5\n",
    "inp1 = int(input('Enter the position : '))\n",
    "pos = inp1 - 0.5;\n",
    "val =  input(\"Enter the value : \")\n",
    "a[pos] = val\n",
    "a"
   ]
  },
  {
   "cell_type": "code",
   "execution_count": 30,
   "metadata": {},
   "outputs": [],
   "source": [
    "a.sort_index(ignore_index=True,inplace=True)"
   ]
  },
  {
   "cell_type": "markdown",
   "metadata": {},
   "source": [
    "- all these changes  done by the sort_index() function does not affect the series at all we have to update the series if we want to view the changes in the original index\n",
    "- to update the original series directly we can use the argument inplace = True;"
   ]
  },
  {
   "cell_type": "code",
   "execution_count": 31,
   "metadata": {},
   "outputs": [
    {
     "data": {
      "text/plain": [
       "0      1\n",
       "1     60\n",
       "2      2\n",
       "3      3\n",
       "4      4\n",
       "5      5\n",
       "6      6\n",
       "7     56\n",
       "8      7\n",
       "9      8\n",
       "10     9\n",
       "11    10\n",
       "dtype: object"
      ]
     },
     "execution_count": 31,
     "metadata": {},
     "output_type": "execute_result"
    }
   ],
   "source": [
    "a"
   ]
  },
  {
   "cell_type": "code",
   "execution_count": null,
   "metadata": {},
   "outputs": [],
   "source": []
  }
 ],
 "metadata": {
  "kernelspec": {
   "display_name": "Python 3 (ipykernel)",
   "language": "python",
   "name": "python3"
  },
  "language_info": {
   "codemirror_mode": {
    "name": "ipython",
    "version": 3
   },
   "file_extension": ".py",
   "mimetype": "text/x-python",
   "name": "python",
   "nbconvert_exporter": "python",
   "pygments_lexer": "ipython3",
   "version": "3.10.5"
  }
 },
 "nbformat": 4,
 "nbformat_minor": 2
}
