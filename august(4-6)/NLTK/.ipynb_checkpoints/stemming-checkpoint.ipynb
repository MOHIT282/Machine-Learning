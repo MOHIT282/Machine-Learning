{
 "cells": [
  {
   "cell_type": "code",
   "execution_count": 1,
   "metadata": {},
   "outputs": [],
   "source": [
    "import pandas as pd\n",
    "from nltk.tokenize import word_tokenize \n",
    "from nltk import FreqDist\n",
    "from nltk.corpus import stopwords\n",
    "import demoji\n",
    "import string\n",
    "\n",
    "from nltk.stem.porter import *\n",
    "from nltk.stem.snowball import SnowballStemmer"
   ]
  },
  {
   "cell_type": "markdown",
   "metadata": {},
   "source": [
    "##### regex patterns used for the data cleaning"
   ]
  },
  {
   "cell_type": "code",
   "execution_count": 2,
   "metadata": {},
   "outputs": [],
   "source": [
    "url = r'(https?|ftp)://([^\\s]+)'\n",
    "hashtag = r'(#[^\\s]+)'\n",
    "mention = r'(@[^\\s]*)'"
   ]
  },
  {
   "cell_type": "markdown",
   "metadata": {},
   "source": [
    "#### Create the data frame from csv file"
   ]
  },
  {
   "cell_type": "code",
   "execution_count": 3,
   "metadata": {},
   "outputs": [],
   "source": [
    "tw = pd.read_csv('tweets_v8.csv')\n",
    "tw.head(20)\n",
    "df = tw.copy()"
   ]
  },
  {
   "cell_type": "markdown",
   "metadata": {},
   "source": [
    "##### Normalize the data"
   ]
  },
  {
   "cell_type": "code",
   "execution_count": 4,
   "metadata": {},
   "outputs": [],
   "source": [
    "tw.text = tw.text.str.lower()"
   ]
  },
  {
   "cell_type": "markdown",
   "metadata": {},
   "source": [
    "#### strip the text data"
   ]
  },
  {
   "cell_type": "code",
   "execution_count": 5,
   "metadata": {},
   "outputs": [],
   "source": [
    "tw.text = tw.text.str.strip()"
   ]
  },
  {
   "cell_type": "markdown",
   "metadata": {},
   "source": [
    "##### Removing the hashtags, Urls and mentions from the text column"
   ]
  },
  {
   "cell_type": "code",
   "execution_count": 6,
   "metadata": {},
   "outputs": [],
   "source": [
    "# removing the urls from the text\n",
    "tw.text = tw.text.replace(url,'',regex=True)"
   ]
  },
  {
   "cell_type": "code",
   "execution_count": 7,
   "metadata": {},
   "outputs": [],
   "source": [
    "# removing the hashtags from the text\n",
    "tw.text = tw.text.replace(hashtag,'',regex=True)"
   ]
  },
  {
   "cell_type": "code",
   "execution_count": 8,
   "metadata": {},
   "outputs": [],
   "source": [
    "# removing mentions from the text\n",
    "tw.text = tw.text.replace(mention,'',regex=True)"
   ]
  },
  {
   "cell_type": "markdown",
   "metadata": {},
   "source": [
    "#### Removing Emojis"
   ]
  },
  {
   "cell_type": "code",
   "execution_count": 9,
   "metadata": {},
   "outputs": [],
   "source": [
    "tw.text = tw.text.apply(lambda x : demoji.replace(x))"
   ]
  },
  {
   "cell_type": "markdown",
   "metadata": {},
   "source": [
    "#### Removing stopwords from the the text\n"
   ]
  },
  {
   "cell_type": "code",
   "execution_count": 10,
   "metadata": {},
   "outputs": [],
   "source": [
    "stop_words = set(stopwords.words('english'))"
   ]
  },
  {
   "cell_type": "code",
   "execution_count": 11,
   "metadata": {},
   "outputs": [],
   "source": [
    "def remove_stopwords(text):\n",
    "    return ' '.join([i for i in word_tokenize(text.lower()) if i not in stop_words ])"
   ]
  },
  {
   "cell_type": "code",
   "execution_count": 12,
   "metadata": {},
   "outputs": [],
   "source": [
    "tw.text = tw.text.apply(remove_stopwords)"
   ]
  },
  {
   "cell_type": "markdown",
   "metadata": {},
   "source": [
    "#### Removing punctuations"
   ]
  },
  {
   "cell_type": "code",
   "execution_count": 13,
   "metadata": {},
   "outputs": [],
   "source": [
    "punc = string.punctuation + \"‘’“”\""
   ]
  },
  {
   "cell_type": "code",
   "execution_count": 14,
   "metadata": {},
   "outputs": [],
   "source": [
    "def remove_punc(text):\n",
    "    \n",
    "    for ch in text:\n",
    "        if ch in punc:\n",
    "            text = text.replace(ch,'')\n",
    "    \n",
    "    return text"
   ]
  },
  {
   "cell_type": "code",
   "execution_count": 15,
   "metadata": {},
   "outputs": [],
   "source": [
    "tw.text = tw.text.apply(remove_punc)"
   ]
  },
  {
   "cell_type": "markdown",
   "metadata": {},
   "source": [
    "#### Stripping the data"
   ]
  },
  {
   "cell_type": "code",
   "execution_count": 16,
   "metadata": {},
   "outputs": [],
   "source": [
    "tw.text = tw.text.str.strip()"
   ]
  },
  {
   "cell_type": "markdown",
   "metadata": {},
   "source": [
    "Stemming the data"
   ]
  },
  {
   "cell_type": "code",
   "execution_count": 17,
   "metadata": {},
   "outputs": [],
   "source": [
    "strem1 = PorterStemmer()"
   ]
  },
  {
   "cell_type": "code",
   "execution_count": 18,
   "metadata": {},
   "outputs": [],
   "source": [
    "tw.loc[:,'PorterStem'] = tw.text.apply(lambda text : ' '.join([ strem1.stem(i) for i in text.split()]))"
   ]
  },
  {
   "cell_type": "code",
   "execution_count": 19,
   "metadata": {},
   "outputs": [
    {
     "data": {
      "text/html": [
       "<div>\n",
       "<style scoped>\n",
       "    .dataframe tbody tr th:only-of-type {\n",
       "        vertical-align: middle;\n",
       "    }\n",
       "\n",
       "    .dataframe tbody tr th {\n",
       "        vertical-align: top;\n",
       "    }\n",
       "\n",
       "    .dataframe thead th {\n",
       "        text-align: right;\n",
       "    }\n",
       "</style>\n",
       "<table border=\"1\" class=\"dataframe\">\n",
       "  <thead>\n",
       "    <tr style=\"text-align: right;\">\n",
       "      <th></th>\n",
       "      <th>text</th>\n",
       "      <th>PorterStem</th>\n",
       "    </tr>\n",
       "  </thead>\n",
       "  <tbody>\n",
       "    <tr>\n",
       "      <th>0</th>\n",
       "      <td>life hits time poverty strikes gong yoo  lets ...</td>\n",
       "      <td>life hit time poverti strike gong yoo let play...</td>\n",
       "    </tr>\n",
       "    <tr>\n",
       "      <th>1</th>\n",
       "      <td>marble episode ruined</td>\n",
       "      <td>marbl episod ruin</td>\n",
       "    </tr>\n",
       "    <tr>\n",
       "      <th>2</th>\n",
       "      <td>time</td>\n",
       "      <td>time</td>\n",
       "    </tr>\n",
       "    <tr>\n",
       "      <th>3</th>\n",
       "      <td>blood 1st slide m joining squidgame thing  m a...</td>\n",
       "      <td>blood 1st slide m join squidgam thing m alread...</td>\n",
       "    </tr>\n",
       "    <tr>\n",
       "      <th>4</th>\n",
       "      <td>two first games  players killed mask guys  blo...</td>\n",
       "      <td>two first game player kill mask guy bloodi nig...</td>\n",
       "    </tr>\n",
       "    <tr>\n",
       "      <th>...</th>\n",
       "      <td>...</td>\n",
       "      <td>...</td>\n",
       "    </tr>\n",
       "    <tr>\n",
       "      <th>80014</th>\n",
       "      <td>yes yes yes</td>\n",
       "      <td>ye ye ye</td>\n",
       "    </tr>\n",
       "    <tr>\n",
       "      <th>80015</th>\n",
       "      <td>squid game reviewed revaaa review anything any...</td>\n",
       "      <td>squid game review revaaa review anyth anyon an...</td>\n",
       "    </tr>\n",
       "    <tr>\n",
       "      <th>80016</th>\n",
       "      <td>back  amp  forth  squid game  creator  amp  le...</td>\n",
       "      <td>back amp forth squid game creator amp lebron j...</td>\n",
       "    </tr>\n",
       "    <tr>\n",
       "      <th>80017</th>\n",
       "      <td>sort games think ll play inevitably make 2</td>\n",
       "      <td>sort game think ll play inevit make 2</td>\n",
       "    </tr>\n",
       "    <tr>\n",
       "      <th>80018</th>\n",
       "      <td>cala boca swifter</td>\n",
       "      <td>cala boca swifter</td>\n",
       "    </tr>\n",
       "  </tbody>\n",
       "</table>\n",
       "<p>80019 rows × 2 columns</p>\n",
       "</div>"
      ],
      "text/plain": [
       "                                                    text  \\\n",
       "0      life hits time poverty strikes gong yoo  lets ...   \n",
       "1                                  marble episode ruined   \n",
       "2                                                   time   \n",
       "3      blood 1st slide m joining squidgame thing  m a...   \n",
       "4      two first games  players killed mask guys  blo...   \n",
       "...                                                  ...   \n",
       "80014                                        yes yes yes   \n",
       "80015  squid game reviewed revaaa review anything any...   \n",
       "80016  back  amp  forth  squid game  creator  amp  le...   \n",
       "80017         sort games think ll play inevitably make 2   \n",
       "80018                                  cala boca swifter   \n",
       "\n",
       "                                              PorterStem  \n",
       "0      life hit time poverti strike gong yoo let play...  \n",
       "1                                      marbl episod ruin  \n",
       "2                                                   time  \n",
       "3      blood 1st slide m join squidgam thing m alread...  \n",
       "4      two first game player kill mask guy bloodi nig...  \n",
       "...                                                  ...  \n",
       "80014                                           ye ye ye  \n",
       "80015  squid game review revaaa review anyth anyon an...  \n",
       "80016  back amp forth squid game creator amp lebron j...  \n",
       "80017              sort game think ll play inevit make 2  \n",
       "80018                                  cala boca swifter  \n",
       "\n",
       "[80019 rows x 2 columns]"
      ]
     },
     "execution_count": 19,
     "metadata": {},
     "output_type": "execute_result"
    }
   ],
   "source": [
    "tw.loc[:,['text','PorterStem']]"
   ]
  },
  {
   "cell_type": "code",
   "execution_count": 23,
   "metadata": {},
   "outputs": [],
   "source": [
    "tw.to_csv('cleaned_tweets.csv')"
   ]
  }
 ],
 "metadata": {
  "kernelspec": {
   "display_name": "Python 3",
   "language": "python",
   "name": "python3"
  },
  "language_info": {
   "codemirror_mode": {
    "name": "ipython",
    "version": 3
   },
   "file_extension": ".py",
   "mimetype": "text/x-python",
   "name": "python",
   "nbconvert_exporter": "python",
   "pygments_lexer": "ipython3",
   "version": "3.12.0"
  },
  "orig_nbformat": 4
 },
 "nbformat": 4,
 "nbformat_minor": 2
}
