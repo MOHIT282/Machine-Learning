{
 "cells": [
  {
   "cell_type": "code",
   "execution_count": 1,
   "id": "51771bf2",
   "metadata": {},
   "outputs": [],
   "source": [
    "# two ways to convert words into their root words\n",
    "# stemming - converts the word into root word in a crude manner\n",
    "# lemmatization - converts word into root word according to the sentence structure"
   ]
  },
  {
   "cell_type": "code",
   "execution_count": 2,
   "id": "2a18c141",
   "metadata": {},
   "outputs": [],
   "source": [
    "from nltk.stem.porter import *\n",
    "from nltk.stem.snowball import SnowballStemmer\n",
    "from nltk.corpus import stopwords\n",
    "from nltk.stem import WordNetLemmatizer"
   ]
  },
  {
   "cell_type": "code",
   "execution_count": 3,
   "id": "b3018c5c",
   "metadata": {},
   "outputs": [
    {
     "data": {
      "text/plain": [
       "{'a',\n",
       " 'about',\n",
       " 'above',\n",
       " 'after',\n",
       " 'again',\n",
       " 'against',\n",
       " 'ain',\n",
       " 'all',\n",
       " 'am',\n",
       " 'an',\n",
       " 'and',\n",
       " 'any',\n",
       " 'are',\n",
       " 'aren',\n",
       " \"aren't\",\n",
       " 'as',\n",
       " 'at',\n",
       " 'be',\n",
       " 'because',\n",
       " 'been',\n",
       " 'before',\n",
       " 'being',\n",
       " 'below',\n",
       " 'between',\n",
       " 'both',\n",
       " 'but',\n",
       " 'by',\n",
       " 'can',\n",
       " 'couldn',\n",
       " \"couldn't\",\n",
       " 'd',\n",
       " 'did',\n",
       " 'didn',\n",
       " \"didn't\",\n",
       " 'do',\n",
       " 'does',\n",
       " 'doesn',\n",
       " \"doesn't\",\n",
       " 'doing',\n",
       " 'don',\n",
       " \"don't\",\n",
       " 'down',\n",
       " 'during',\n",
       " 'each',\n",
       " 'few',\n",
       " 'for',\n",
       " 'from',\n",
       " 'further',\n",
       " 'had',\n",
       " 'hadn',\n",
       " \"hadn't\",\n",
       " 'has',\n",
       " 'hasn',\n",
       " \"hasn't\",\n",
       " 'have',\n",
       " 'haven',\n",
       " \"haven't\",\n",
       " 'having',\n",
       " 'he',\n",
       " 'her',\n",
       " 'here',\n",
       " 'hers',\n",
       " 'herself',\n",
       " 'him',\n",
       " 'himself',\n",
       " 'his',\n",
       " 'how',\n",
       " 'i',\n",
       " 'if',\n",
       " 'in',\n",
       " 'into',\n",
       " 'is',\n",
       " 'isn',\n",
       " \"isn't\",\n",
       " 'it',\n",
       " \"it's\",\n",
       " 'its',\n",
       " 'itself',\n",
       " 'just',\n",
       " 'll',\n",
       " 'm',\n",
       " 'ma',\n",
       " 'me',\n",
       " 'mightn',\n",
       " \"mightn't\",\n",
       " 'more',\n",
       " 'most',\n",
       " 'mustn',\n",
       " \"mustn't\",\n",
       " 'my',\n",
       " 'myself',\n",
       " 'needn',\n",
       " \"needn't\",\n",
       " 'no',\n",
       " 'nor',\n",
       " 'not',\n",
       " 'now',\n",
       " 'o',\n",
       " 'of',\n",
       " 'off',\n",
       " 'on',\n",
       " 'once',\n",
       " 'only',\n",
       " 'or',\n",
       " 'other',\n",
       " 'our',\n",
       " 'ours',\n",
       " 'ourselves',\n",
       " 'out',\n",
       " 'over',\n",
       " 'own',\n",
       " 're',\n",
       " 's',\n",
       " 'same',\n",
       " 'shan',\n",
       " \"shan't\",\n",
       " 'she',\n",
       " \"she's\",\n",
       " 'should',\n",
       " \"should've\",\n",
       " 'shouldn',\n",
       " \"shouldn't\",\n",
       " 'so',\n",
       " 'some',\n",
       " 'such',\n",
       " 't',\n",
       " 'than',\n",
       " 'that',\n",
       " \"that'll\",\n",
       " 'the',\n",
       " 'their',\n",
       " 'theirs',\n",
       " 'them',\n",
       " 'themselves',\n",
       " 'then',\n",
       " 'there',\n",
       " 'these',\n",
       " 'they',\n",
       " 'this',\n",
       " 'those',\n",
       " 'through',\n",
       " 'to',\n",
       " 'too',\n",
       " 'under',\n",
       " 'until',\n",
       " 'up',\n",
       " 've',\n",
       " 'very',\n",
       " 'was',\n",
       " 'wasn',\n",
       " \"wasn't\",\n",
       " 'we',\n",
       " 'were',\n",
       " 'weren',\n",
       " \"weren't\",\n",
       " 'what',\n",
       " 'when',\n",
       " 'where',\n",
       " 'which',\n",
       " 'while',\n",
       " 'who',\n",
       " 'whom',\n",
       " 'why',\n",
       " 'will',\n",
       " 'with',\n",
       " 'won',\n",
       " \"won't\",\n",
       " 'wouldn',\n",
       " \"wouldn't\",\n",
       " 'y',\n",
       " 'you',\n",
       " \"you'd\",\n",
       " \"you'll\",\n",
       " \"you're\",\n",
       " \"you've\",\n",
       " 'your',\n",
       " 'yours',\n",
       " 'yourself',\n",
       " 'yourselves'}"
      ]
     },
     "execution_count": 3,
     "metadata": {},
     "output_type": "execute_result"
    }
   ],
   "source": [
    "stop_words = set(stopwords.words('english'))\n",
    "stop_words"
   ]
  },
  {
   "cell_type": "code",
   "execution_count": 4,
   "id": "5366a0eb",
   "metadata": {},
   "outputs": [
    {
     "data": {
      "text/plain": [
       "True"
      ]
     },
     "execution_count": 4,
     "metadata": {},
     "output_type": "execute_result"
    }
   ],
   "source": [
    "'its' in stop_words"
   ]
  },
  {
   "cell_type": "code",
   "execution_count": 5,
   "id": "ac4cbc95",
   "metadata": {},
   "outputs": [],
   "source": [
    "stemmer = PorterStemmer()"
   ]
  },
  {
   "cell_type": "code",
   "execution_count": 6,
   "id": "b1237123",
   "metadata": {},
   "outputs": [],
   "source": [
    "plurals = ['caresses', 'flies', 'dies', 'mules', 'denied',\n",
    "'died', 'agreed', 'owned', 'humbled', 'sized',\n",
    "'meeting', 'stating', 'siezing', 'itemization',\n",
    "'sensational', 'traditional', 'reference', 'colonizer',\n",
    "'plotted']"
   ]
  },
  {
   "cell_type": "code",
   "execution_count": 7,
   "id": "34707db5",
   "metadata": {},
   "outputs": [
    {
     "data": {
      "text/plain": [
       "['caresses - caress',\n",
       " 'flies - fli',\n",
       " 'dies - die',\n",
       " 'mules - mule',\n",
       " 'denied - deni',\n",
       " 'died - die',\n",
       " 'agreed - agre',\n",
       " 'owned - own',\n",
       " 'humbled - humbl',\n",
       " 'sized - size',\n",
       " 'meeting - meet',\n",
       " 'stating - state',\n",
       " 'siezing - siez',\n",
       " 'itemization - item',\n",
       " 'sensational - sensat',\n",
       " 'traditional - tradit',\n",
       " 'reference - refer',\n",
       " 'colonizer - colon',\n",
       " 'plotted - plot']"
      ]
     },
     "execution_count": 7,
     "metadata": {},
     "output_type": "execute_result"
    }
   ],
   "source": [
    "[f'{i} - {stemmer.stem(i)}' for i in plurals]"
   ]
  },
  {
   "cell_type": "code",
   "execution_count": 8,
   "id": "64026e45",
   "metadata": {},
   "outputs": [
    {
     "data": {
      "text/plain": [
       "'caresses flies dies mules denied died agreed owned humbled sized meeting stating siezing itemization sensational traditional reference colonizer'"
      ]
     },
     "execution_count": 8,
     "metadata": {},
     "output_type": "execute_result"
    }
   ],
   "source": [
    "a = \" \".join(plurals[:-1])\n",
    "a"
   ]
  },
  {
   "cell_type": "code",
   "execution_count": 9,
   "id": "bd0aaf12",
   "metadata": {},
   "outputs": [
    {
     "data": {
      "text/plain": [
       "'caresses flies dies mules denied died agreed owned humbled sized meeting stating siezing itemization sensational traditional reference colon'"
      ]
     },
     "execution_count": 9,
     "metadata": {},
     "output_type": "execute_result"
    }
   ],
   "source": [
    "stemmer.stem(a)"
   ]
  },
  {
   "cell_type": "code",
   "execution_count": 10,
   "id": "3d747cc3",
   "metadata": {},
   "outputs": [],
   "source": [
    "stemmer1 = SnowballStemmer(\"english\", ignore_stopwords=False)\n",
    "stemmer2 = SnowballStemmer(\"english\", ignore_stopwords=True)"
   ]
  },
  {
   "cell_type": "code",
   "execution_count": 11,
   "id": "f25a38eb",
   "metadata": {},
   "outputs": [],
   "source": [
    "a = 'The MAIN APPLICATION of Porter Stemmer include data mining and Information retrieval. However it\\'s applications are only limited to English words. Also, the group of stems is mapped on to the same stem and the output stem is not necessarily a meaningful word'"
   ]
  },
  {
   "cell_type": "code",
   "execution_count": 12,
   "id": "2f677f26",
   "metadata": {},
   "outputs": [
    {
     "data": {
      "text/plain": [
       "['The - the',\n",
       " 'MAIN - main',\n",
       " 'APPLICATION - applic',\n",
       " 'of - of',\n",
       " 'Porter - porter',\n",
       " 'Stemmer - stemmer',\n",
       " 'include - includ',\n",
       " 'data - data',\n",
       " 'mining - mine',\n",
       " 'and - and',\n",
       " 'Information - inform',\n",
       " 'retrieval. - retrieval.',\n",
       " 'However - howev',\n",
       " \"it's - it\",\n",
       " 'applications - applic',\n",
       " 'are - are',\n",
       " 'only - onli',\n",
       " 'limited - limit',\n",
       " 'to - to',\n",
       " 'English - english',\n",
       " 'words. - words.',\n",
       " 'Also, - also,',\n",
       " 'the - the',\n",
       " 'group - group',\n",
       " 'of - of',\n",
       " 'stems - stem',\n",
       " 'is - is',\n",
       " 'mapped - map',\n",
       " 'on - on',\n",
       " 'to - to',\n",
       " 'the - the',\n",
       " 'same - same',\n",
       " 'stem - stem',\n",
       " 'and - and',\n",
       " 'the - the',\n",
       " 'output - output',\n",
       " 'stem - stem',\n",
       " 'is - is',\n",
       " 'not - not',\n",
       " 'necessarily - necessarili',\n",
       " 'a - a',\n",
       " 'meaningful - meaning',\n",
       " 'word - word']"
      ]
     },
     "execution_count": 12,
     "metadata": {},
     "output_type": "execute_result"
    }
   ],
   "source": [
    "[f'{i} - {stemmer1.stem(i)}' for i in a.split()]"
   ]
  },
  {
   "cell_type": "code",
   "execution_count": 13,
   "id": "2ab73aa8",
   "metadata": {},
   "outputs": [
    {
     "data": {
      "text/plain": [
       "['The - the',\n",
       " 'MAIN - main',\n",
       " 'APPLICATION - applic',\n",
       " 'of - of',\n",
       " 'Porter - porter',\n",
       " 'Stemmer - stemmer',\n",
       " 'include - includ',\n",
       " 'data - data',\n",
       " 'mining - mine',\n",
       " 'and - and',\n",
       " 'Information - inform',\n",
       " 'retrieval. - retrieval.',\n",
       " 'However - howev',\n",
       " \"it's - it's\",\n",
       " 'applications - applic',\n",
       " 'are - are',\n",
       " 'only - only',\n",
       " 'limited - limit',\n",
       " 'to - to',\n",
       " 'English - english',\n",
       " 'words. - words.',\n",
       " 'Also, - also,',\n",
       " 'the - the',\n",
       " 'group - group',\n",
       " 'of - of',\n",
       " 'stems - stem',\n",
       " 'is - is',\n",
       " 'mapped - map',\n",
       " 'on - on',\n",
       " 'to - to',\n",
       " 'the - the',\n",
       " 'same - same',\n",
       " 'stem - stem',\n",
       " 'and - and',\n",
       " 'the - the',\n",
       " 'output - output',\n",
       " 'stem - stem',\n",
       " 'is - is',\n",
       " 'not - not',\n",
       " 'necessarily - necessarili',\n",
       " 'a - a',\n",
       " 'meaningful - meaning',\n",
       " 'word - word']"
      ]
     },
     "execution_count": 13,
     "metadata": {},
     "output_type": "execute_result"
    }
   ],
   "source": [
    "[f'{i} - {stemmer2.stem(i)}' for i in a.split()]"
   ]
  },
  {
   "cell_type": "code",
   "execution_count": 14,
   "id": "c394672b",
   "metadata": {},
   "outputs": [
    {
     "data": {
      "text/plain": [
       "\"the main application of porter stemmer include data mining and information retrieval. however it's applications are only limited to english words. also, the group of stems is mapped on to the same stem and the output stem is not necessarily a meaningful word\""
      ]
     },
     "execution_count": 14,
     "metadata": {},
     "output_type": "execute_result"
    }
   ],
   "source": [
    "stemmer1.stem(a)"
   ]
  },
  {
   "cell_type": "code",
   "execution_count": 15,
   "id": "c62d0aeb",
   "metadata": {},
   "outputs": [],
   "source": [
    "lemma = WordNetLemmatizer()"
   ]
  },
  {
   "cell_type": "code",
   "execution_count": 16,
   "id": "a74ca559",
   "metadata": {},
   "outputs": [
    {
     "data": {
      "text/plain": [
       "['the - the',\n",
       " 'main - main',\n",
       " 'application - application',\n",
       " 'of - of',\n",
       " 'porter - porter',\n",
       " 'stemmer - stemmer',\n",
       " 'include - include',\n",
       " 'data - data',\n",
       " 'mining - mining',\n",
       " 'and - and',\n",
       " 'information - information',\n",
       " 'retrieval. - retrieval.',\n",
       " 'however, - however,',\n",
       " \"it's - it's\",\n",
       " 'applications - application',\n",
       " 'are - are',\n",
       " 'only - only',\n",
       " 'limited - limited',\n",
       " 'to - to',\n",
       " 'english - english',\n",
       " 'words. - words.',\n",
       " 'also, - also,',\n",
       " 'the - the',\n",
       " 'group - group',\n",
       " 'of - of',\n",
       " 'stems - stem',\n",
       " 'is - is',\n",
       " 'mapped - mapped',\n",
       " 'on - on',\n",
       " 'to - to',\n",
       " 'the - the',\n",
       " 'same - same',\n",
       " 'stem - stem',\n",
       " 'and - and',\n",
       " 'the - the',\n",
       " 'output - output',\n",
       " 'stem - stem',\n",
       " 'is - is',\n",
       " 'not - not',\n",
       " 'necessarily - necessarily',\n",
       " 'a - a',\n",
       " 'meaningful - meaningful',\n",
       " 'word - word',\n",
       " 'rocks - rock']"
      ]
     },
     "execution_count": 16,
     "metadata": {},
     "output_type": "execute_result"
    }
   ],
   "source": [
    "a = \"the main application of porter stemmer include data mining and information retrieval. however, it's applications are only limited to english words. also, the group of stems is mapped on to the same stem and the output stem is not necessarily a meaningful word rocks\"\n",
    "[f'{i} - {lemma.lemmatize(i)}' for i in a.split()]"
   ]
  },
  {
   "cell_type": "code",
   "execution_count": 17,
   "id": "b6537eee",
   "metadata": {},
   "outputs": [
    {
     "name": "stderr",
     "output_type": "stream",
     "text": [
      "[nltk_data] Downloading package wordnet to\n",
      "[nltk_data]     C:\\Users\\Acer\\AppData\\Roaming\\nltk_data...\n",
      "[nltk_data]   Package wordnet is already up-to-date!\n"
     ]
    },
    {
     "data": {
      "text/plain": [
       "True"
      ]
     },
     "execution_count": 17,
     "metadata": {},
     "output_type": "execute_result"
    }
   ],
   "source": [
    "import nltk\n",
    "nltk.download('wordnet')"
   ]
  },
  {
   "cell_type": "code",
   "execution_count": 18,
   "id": "423179da",
   "metadata": {},
   "outputs": [
    {
     "data": {
      "text/plain": [
       "['goes', 'going', 'goes', 'going']"
      ]
     },
     "execution_count": 18,
     "metadata": {},
     "output_type": "execute_result"
    }
   ],
   "source": [
    "b = ['goes', 'going'] * 2\n",
    "b"
   ]
  },
  {
   "cell_type": "code",
   "execution_count": 19,
   "id": "f1ba5069",
   "metadata": {},
   "outputs": [
    {
     "data": {
      "text/plain": [
       "['goe', 'go', 'goe', 'go']"
      ]
     },
     "execution_count": 19,
     "metadata": {},
     "output_type": "execute_result"
    }
   ],
   "source": [
    "[stemmer1.stem(i) for i in b]"
   ]
  },
  {
   "cell_type": "code",
   "execution_count": 20,
   "id": "32274e23",
   "metadata": {},
   "outputs": [
    {
     "data": {
      "text/plain": [
       "['go', 'going', 'go', 'going']"
      ]
     },
     "execution_count": 20,
     "metadata": {},
     "output_type": "execute_result"
    }
   ],
   "source": [
    "[lemma.lemmatize(i) for i in b]"
   ]
  },
  {
   "cell_type": "code",
   "execution_count": null,
   "id": "50e6b854",
   "metadata": {},
   "outputs": [],
   "source": []
  }
 ],
 "metadata": {
  "kernelspec": {
   "display_name": "Python 3 (ipykernel)",
   "language": "python",
   "name": "python3"
  },
  "language_info": {
   "codemirror_mode": {
    "name": "ipython",
    "version": 3
   },
   "file_extension": ".py",
   "mimetype": "text/x-python",
   "name": "python",
   "nbconvert_exporter": "python",
   "pygments_lexer": "ipython3",
   "version": "3.12.0"
  }
 },
 "nbformat": 4,
 "nbformat_minor": 5
}
