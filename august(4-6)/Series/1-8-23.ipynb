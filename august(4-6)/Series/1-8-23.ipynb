{
 "cells": [
  {
   "cell_type": "code",
   "execution_count": 2,
   "id": "5f7be991",
   "metadata": {},
   "outputs": [],
   "source": [
    "import pandas as pd"
   ]
  },
  {
   "cell_type": "code",
   "execution_count": null,
   "id": "3fd7f7ff",
   "metadata": {},
   "outputs": [],
   "source": [
    "a = pd.Series({'a':10,'b':'world'}, index=['a','d'])\n",
    "a"
   ]
  },
  {
   "cell_type": "code",
   "execution_count": null,
   "id": "723b333b",
   "metadata": {},
   "outputs": [],
   "source": [
    "titanic = pd.read_csv('../tested.csv')\n",
    "titanic"
   ]
  },
  {
   "cell_type": "code",
   "execution_count": null,
   "id": "b2d07300",
   "metadata": {},
   "outputs": [],
   "source": [
    "titanic.plot()\n",
    "a = pd.Series([10,20,30])"
   ]
  },
  {
   "cell_type": "code",
   "execution_count": null,
   "id": "0c82d042",
   "metadata": {},
   "outputs": [],
   "source": [
    "ser = pd.Series(data=[10,20,30])\n",
    "\n",
    "ser = ser - 10\n",
    "ser = ser /10\n",
    "ser"
   ]
  },
  {
   "cell_type": "code",
   "execution_count": null,
   "id": "b3f6f948",
   "metadata": {},
   "outputs": [],
   "source": [
    "a = {'a':10,'b':'world'}\n",
    "print(a.get('c'))\n",
    "print(a.get('c',-1))\n",
    "x = lambda : 'd'\n",
    "x()\n",
    "print(a.get('c',x()))"
   ]
  },
  {
   "cell_type": "markdown",
   "id": "4c558fd0",
   "metadata": {},
   "source": [
    "- create a series with the indexes having difference of 10 \n",
    "- create a series with 100 elements and their indexes/labels should be there squares"
   ]
  },
  {
   "cell_type": "code",
   "execution_count": 8,
   "id": "f2c0b085",
   "metadata": {},
   "outputs": [
    {
     "data": {
      "text/plain": [
       "0     a\n",
       "10    b\n",
       "20    c\n",
       "30    d\n",
       "40    e\n",
       "dtype: object"
      ]
     },
     "execution_count": 8,
     "metadata": {},
     "output_type": "execute_result"
    }
   ],
   "source": [
    "a = ['a','b','c','d','e']\n",
    "ser = pd.Series( index=[x*10 for x in range(0,len(a))], data=a)\n",
    "ser"
   ]
  },
  {
   "cell_type": "code",
   "execution_count": 10,
   "id": "ddc9d47f",
   "metadata": {},
   "outputs": [
    {
     "data": {
      "text/plain": [
       "10    a\n",
       "20    b\n",
       "30    c\n",
       "40    d\n",
       "50    e\n",
       "dtype: object"
      ]
     },
     "execution_count": 10,
     "metadata": {},
     "output_type": "execute_result"
    }
   ],
   "source": [
    "a = ['a','b','c','d','e']\n",
    "ser = pd.Series( index=range(10,(len(a)*10+1),10), data=a)\n",
    "ser"
   ]
  },
  {
   "cell_type": "code",
   "execution_count": 108,
   "id": "50170498",
   "metadata": {},
   "outputs": [
    {
     "data": {
      "text/plain": [
       "1          1\n",
       "4          2\n",
       "9          3\n",
       "16         4\n",
       "25         5\n",
       "        ... \n",
       "9216      96\n",
       "9409      97\n",
       "9604      98\n",
       "9801      99\n",
       "10000    100\n",
       "Length: 100, dtype: int64"
      ]
     },
     "execution_count": 108,
     "metadata": {},
     "output_type": "execute_result"
    }
   ],
   "source": [
    "ser2 = pd.Series(data=[x for x in range(1,101)],index=[x**2 for x in range(1,101)])\n",
    "ser2"
   ]
  }
 ],
 "metadata": {
  "kernelspec": {
   "display_name": "Python 3 (ipykernel)",
   "language": "python",
   "name": "python3"
  },
  "language_info": {
   "codemirror_mode": {
    "name": "ipython",
    "version": 3
   },
   "file_extension": ".py",
   "mimetype": "text/x-python",
   "name": "python",
   "nbconvert_exporter": "python",
   "pygments_lexer": "ipython3",
   "version": "3.10.5"
  }
 },
 "nbformat": 4,
 "nbformat_minor": 5
}
